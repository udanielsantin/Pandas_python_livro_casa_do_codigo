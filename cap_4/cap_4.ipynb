{
 "cells": [
  {
   "cell_type": "code",
   "execution_count": 20,
   "id": "e28aa528",
   "metadata": {},
   "outputs": [
    {
     "name": "stdout",
     "output_type": "stream",
     "text": [
      "\n",
      "atributos e seus dtypes:\n",
      "------------------------\n",
      "renda           float64\n",
      "empregos          int64\n",
      "sexo             object\n",
      "escolaridade     object\n",
      "dtype: object\n"
     ]
    }
   ],
   "source": [
    "import pandas as pd\n",
    "\n",
    "# cria o DataFrame \"pme\"\n",
    "dados = {\n",
    "    \"renda\": [6.46, 1.50, 0.00, 2.57, 9.90, 6.22],\n",
    "    \"empregos\": [1, 1, 0, 1, 2, 3],\n",
    "    \"sexo\": [\"F\", \"M\", \"F\", \"M\", \"M\", \"F\"],\n",
    "    \"escolaridade\": [\"pós-graduação\", \"fundamental\", \n",
    "                     \"médio\", \"médio\", \n",
    "                     \"superior\", \"médio\"]\n",
    "}\n",
    "\n",
    "pme = pd.DataFrame(dados)\n",
    "\n",
    "# imprime o nome de cada atributo e seu dtype\n",
    "print(\"\\natributos e seus dtypes:\")\n",
    "print(\"------------------------\")\n",
    "print(pme.dtypes)\n"
   ]
  },
  {
   "cell_type": "code",
   "execution_count": 1,
   "id": "11dd2812",
   "metadata": {},
   "outputs": [
    {
     "name": "stdout",
     "output_type": "stream",
     "text": [
      "média: 2.857142857142857\n",
      "mediana: 3.0\n",
      "moda: ['RECLAMACAO']\n"
     ]
    }
   ],
   "source": [
    "#P23 Estatísticas básicas: medidas de tendência central\n",
    "\n",
    "# Cria o DataFrame\n",
    "dados = {\n",
    "    \"jogador\": [\"Marcelo\",\n",
    "                \"Pedro\",\n",
    "                \"Marcelo\",\n",
    "                \"Adriano\",\n",
    "                \"Mauro\",\n",
    "                \"Pedro\",\n",
    "                \"Marcelo\"],\n",
    "    \n",
    "    \"infracao\": [\"FALTA VIOLENTA\",\n",
    "                 \"RECLAMACAO\",\n",
    "                 \"FALTA COMUM\",\n",
    "                 \"RECLAMACAO\",\n",
    "                 \"FALTA COMUM\",\n",
    "                 \"FALTA VIOLENTA\",\n",
    "                 \"RECLAMACAO\"],\n",
    "    \n",
    "    \"punicao\": [4, 1, 3, 2, 4, 4, 2]\n",
    "}\n",
    "\n",
    "df = pd.DataFrame(dados)\n",
    "\n",
    "# Calcula as medidas de tendência central\n",
    "print(\"média:\", df[\"punicao\"].mean())\n",
    "print(\"mediana:\", df[\"punicao\"].median())\n",
    "print(\"moda:\", df[\"infracao\"].mode().values)\n"
   ]
  },
  {
   "cell_type": "code",
   "execution_count": 25,
   "id": "1a9d59dc",
   "metadata": {},
   "outputs": [
    {
     "name": "stdout",
     "output_type": "stream",
     "text": [
      "Juiz A\n",
      "--------\n",
      "amplitude: 3\n",
      "variância: 1.476190476190476\n",
      "desvio padrão: 1.2149857925879117\n",
      "\n",
      "Juiz B\n",
      "--------\n",
      "amplitude: 5\n",
      "variância: 4.476190476190476\n",
      "desvio padrão: 2.1157009420498154\n"
     ]
    }
   ],
   "source": [
    "#P24 Estatísticas básicas: medidas de variabilidade\n",
    "# Cria o DataFrame\n",
    "dados = {\n",
    "    \"jogador\": [\"Marcelo\",\n",
    "                \"Pedro\",\n",
    "                \"Marcelo\",\n",
    "                \"Adriano\",\n",
    "                \"Mauro\",\n",
    "                \"Pedro\",\n",
    "                \"Marcelo\"],\n",
    "    \n",
    "    \"infracao\": [\"FALTA VIOLENTA\",\n",
    "                 \"RECLAMACAO\",\n",
    "                 \"FALTA COMUM\",\n",
    "                 \"RECLAMACAO\",\n",
    "                 \"FALTA COMUM\",\n",
    "                 \"FALTA VIOLENTA\",\n",
    "                 \"RECLAMACAO\"],\n",
    "    \n",
    "    \"juiz_A\": [4, 1, 3, 2, 4, 4, 2],\n",
    "    \"juiz_B\": [2, 1, 4, 1, 1, 5, 6]\n",
    "}\n",
    "\n",
    "df = pd.DataFrame(dados)\n",
    "\n",
    "# Calcula as medidas de variabilidade\n",
    "print(\"Juiz A\")\n",
    "print(\"--------\")\n",
    "print(\"amplitude:\", df[\"juiz_A\"].max() - df[\"juiz_A\"].min())\n",
    "print(\"variância:\", df[\"juiz_A\"].var())\n",
    "print(\"desvio padrão:\", df[\"juiz_A\"].std())\n",
    "\n",
    "print(\"\\nJuiz B\")\n",
    "print(\"--------\")\n",
    "print(\"amplitude:\", df[\"juiz_B\"].max() - df[\"juiz_B\"].min())\n",
    "print(\"variância:\", df[\"juiz_B\"].var())\n",
    "print(\"desvio padrão:\", df[\"juiz_B\"].std())"
   ]
  },
  {
   "cell_type": "code",
   "execution_count": 30,
   "id": "85fcdf11",
   "metadata": {},
   "outputs": [],
   "source": [
    "#P25 Boxplot - comparação de distribuições\n",
    "df = pd.DataFrame({\n",
    "    \"homens\": [4, 2, 7, 3, 1, 4, 2, 4, 8, 1],\n",
    "    \"mulheres\": [5, 4, 6, 5, 4, 2, 6, 6, 4, 3]\n",
    "})\n",
    "\n",
    "boxplot = df.boxplot(column=['homens', 'mulheres'], showmeans=True)"
   ]
  },
  {
   "cell_type": "code",
   "execution_count": 32,
   "id": "bda5644f",
   "metadata": {},
   "outputs": [
    {
     "name": "stdout",
     "output_type": "stream",
     "text": [
      "\n",
      "Notas finais: \n",
      "--------------------------\n",
      "     A1   A2   A3   A4\n",
      "P1  9.8  5.3  5.5  7.0\n",
      "P2  7.2  4.0  8.1  7.5\n",
      "P3  8.0  3.5  7.2  6.5\n",
      "\n",
      "Média de cada aluno:\n",
      "--------------------------\n",
      "A1    8.333333\n",
      "A2    4.266667\n",
      "A3    6.933333\n",
      "A4    7.000000\n",
      "dtype: float64\n",
      "\n",
      "Maior nota de cada aluno:\n",
      "--------------------------\n",
      "A1    9.8\n",
      "A2    5.3\n",
      "A3    8.1\n",
      "A4    7.5\n",
      "dtype: float64\n",
      "\n",
      "Média de cada prova:\n",
      "--------------------------\n",
      "P1    6.9\n",
      "P2    6.7\n",
      "P3    6.3\n",
      "dtype: float64\n",
      "\n",
      "Maior nota de cada prova:\n",
      "--------------------------\n",
      "P1    9.8\n",
      "P2    8.1\n",
      "P3    8.0\n",
      "dtype: float64\n"
     ]
    }
   ],
   "source": [
    "#P26 Estatísticas sobre colunas e linhas de um DataFrame\n",
    "\n",
    "# Cria um DataFrame com as notas de 4 alunos em 3 provas\n",
    "notas = pd.DataFrame({\n",
    "    \"A1\": [9.8, 7.2, 8.0],\n",
    "    \"A2\": [5.3, 4.0, 3.5],\n",
    "    \"A3\": [5.5, 8.1, 7.2],\n",
    "    \"A4\": [7.0, 7.5, 6.5]\n",
    "}, index=[\"P1\", \"P2\", \"P3\"])\n",
    "\n",
    "# Imprime o DataFrame\n",
    "print(\"\\nNotas finais: \")\n",
    "print('--------------------------')\n",
    "print(notas)\n",
    "\n",
    "# Computa e imprime as estatísticas por aluno e prova\n",
    "print('\\nMédia de cada aluno:')\n",
    "print('--------------------------')\n",
    "print(notas.mean())\n",
    "\n",
    "print('\\nMaior nota de cada aluno:')\n",
    "print('--------------------------')\n",
    "print(notas.max())\n",
    "\n",
    "print('\\nMédia de cada prova:')\n",
    "print('--------------------------')\n",
    "print(notas.mean(axis=1))\n",
    "\n",
    "print('\\nMaior nota de cada prova:')\n",
    "print('--------------------------')\n",
    "print(notas.max(axis=1))\n"
   ]
  },
  {
   "cell_type": "code",
   "execution_count": 38,
   "id": "6eff3de0",
   "metadata": {},
   "outputs": [
    {
     "name": "stdout",
     "output_type": "stream",
     "text": [
      "\n",
      "* Resultado final ordenado por tempo:\n",
      "               nadador   nacionalidade  tempo\n",
      "raia                                         \n",
      "3        Anthony Ervin  Estados Unidos  21.40\n",
      "4     Florent Manaudou          França  21.41\n",
      "6        Nathan Adrian  Estados Unidos  21.49\n",
      "2       Benjamin Proud    Grã-Bretanha  21.68\n",
      "5       Andriy Hovorov         Ucrânia  21.74\n",
      "7         Bruno Fratus          Brasil  21.79\n",
      "8           Brad Tandy   África do Sul  21.79\n",
      "1        Simonas Bilis        Lituânia  22.08\n",
      "\n",
      "* Posição de cada nadador (por raia):\n",
      "raia\n",
      "3    1.0\n",
      "4    2.0\n",
      "6    3.0\n",
      "2    4.0\n",
      "5    5.0\n",
      "7    6.0\n",
      "8    6.0\n",
      "1    8.0\n",
      "Name: tempo, dtype: float64\n"
     ]
    }
   ],
   "source": [
    "#1 - cria o DataFrame da prova de 50m\n",
    "dados = {\n",
    "    \"nadador\": [\"Simonas Bilis\",\n",
    "                \"Benjamin Proud\",\n",
    "                \"Anthony Ervin\",\n",
    "                \"Florent Manaudou\",\n",
    "                \"Andriy Hovorov\",\n",
    "                \"Nathan Adrian\",\n",
    "                \"Bruno Fratus\",\n",
    "                \"Brad Tandy\"],\n",
    "\n",
    "    \"nacionalidade\": [\"Lituânia\",\n",
    "                      \"Grã-Bretanha\",\n",
    "                      \"Estados Unidos\",\n",
    "                      \"França\",\n",
    "                      \"Ucrânia\",\n",
    "                      \"Estados Unidos\",\n",
    "                      \"Brasil\",\n",
    "                      \"África do Sul\"],\n",
    "\n",
    "    \"tempo\": [22.08,\n",
    "              21.68,\n",
    "              21.40,\n",
    "              21.41,\n",
    "              21.74,\n",
    "              21.49,\n",
    "              21.79,\n",
    "              21.79]\n",
    "}\n",
    "\n",
    "raias = list(range(1, 9))\n",
    "\n",
    "prova50m = pd.DataFrame(dados, index=raias)\n",
    "prova50m.index.name = 'raia'\n",
    "\n",
    "#2 - ordena pelo tempo de forma crescente\n",
    "prova50m = prova50m.sort_values(by=\"tempo\")\n",
    "print(\"\\n* Resultado final ordenado por tempo:\")\n",
    "print(prova50m)\n",
    "\n",
    "#3 - gera os rankings\n",
    "resultado_por_raia = prova50m[\"tempo\"].rank(method=\"min\")\n",
    "print(\"\\n* Posição de cada nadador (por raia):\")\n",
    "print(resultado_por_raia)\n"
   ]
   "outputs": [
    {
     "name": "stdout",
     "output_type": "stream",
     "text": [
      "Domínio dos atributos categóricos:\n",
      "----------------------------------\n",
      "sexo: ['F' 'M']\n",
      "bairro: ['Belverde' 'Savassi' 'Anchieta' None]\n",
      "cartao: ['Master' 'Visa' 'Amex' 'Elo']\n",
      "\n",
      "\n",
      "Tabelas de frequência:\n",
      "----------------------\n",
      "N1-sexo:\n",
      "sexo\n",
      "F    4\n",
      "M    2\n",
      "Name: count, dtype: int64\n",
      "\n",
      "N2-bairro:\n",
      "bairro\n",
      "Belverde    2\n",
      "Savassi     2\n",
      "Anchieta    1\n",
      "Name: count, dtype: int64\n",
      "\n",
      "N3-cartão:\n",
      "cartao\n",
      "Master    2\n",
      "Visa      2\n",
      "Amex      1\n",
      "Elo       1\n",
      "Name: count, dtype: int64\n"
     ]
    }
   ],
   "source": [
    "#P28 Métodos unique() e value_counts()\n",
    "import pandas as pd\n",
    "\n",
    "#1-cria o DataFrame\n",
    "dados = {\n",
    "    \"sexo\": [\"F\", \"M\", \"F\", \"F\", \"F\", \"M\"],\n",
    "    \"bairro\": [\"Belverde\", \"Belverde\", \"Savassi\", \"Savassi\", \"Anchieta\", None],\n",
    "    \"valor\": [150.00, 35.00, 80.00, 250.00, 9.90, 25.00],\n",
    "    \"cartao\": [\"Master\", \"Visa\", \"Visa\", \"Amex\", \"Elo\", \"Master\"]\n",
    "}\n",
    "\n",
    "id_clientes = [1, 2, 3, 4, 5, 6]\n",
    "\n",
    "vendas = pd.DataFrame(dados, index=id_clientes)\n",
    "\n",
    "#2-retorna o domínio dos atributos categóricos\n",
    "print(\"Domínio dos atributos categóricos:\")\n",
    "print(\"----------------------------------\")\n",
    "print(\"sexo:\", vendas[\"sexo\"].unique())\n",
    "print(\"bairro:\", vendas[\"bairro\"].unique())\n",
    "print(\"cartao:\", vendas[\"cartao\"].unique())\n",
    "\n",
    "#3-retorna as frequências dos valores de cada coluna categórica\n",
    "print(\"\\n\")\n",
    "print(\"Tabelas de frequência:\")\n",
    "print(\"----------------------\")\n",
    "print(\"N1-sexo:\")\n",
    "print(vendas[\"sexo\"].value_counts())\n",
    "print(\"\\nN2-bairro:\")\n",
    "print(vendas[\"bairro\"].value_counts())\n",
    "print(\"\\nN3-cartão:\")\n",
    "print(vendas[\"cartao\"].value_counts())\n"
   ]
  },
  {
   "cell_type": "code",
   "execution_count": 3,
   "id": "c41ce7ba",
   "metadata": {},
   "outputs": [
    {
     "name": "stdout",
     "output_type": "stream",
     "text": [
      "- quantidade de clientes, por bairro:\n",
      " bairro\n",
      "Anchieta    1\n",
      "Belverde    2\n",
      "Savassi     2\n",
      "Name: valor, dtype: int64\n",
      "-------------------------------------\n",
      "- valor total das vendas, por bairro:\n",
      " bairro\n",
      "Anchieta      9.9\n",
      "Belverde    185.0\n",
      "Savassi     330.0\n",
      "Name: valor, dtype: float64\n",
      "-------------------------------------\n",
      "- valor médio das vendas, por bairro:\n",
      " bairro\n",
      "Anchieta      9.9\n",
      "Belverde     92.5\n",
      "Savassi     165.0\n",
      "Name: valor, dtype: float64\n"
     ]
    }
   ],
   "source": [
    "#P29 Agregaçãocom o método 'group_by()'\n",
    "\n",
    "# Gera uma variável \"grouped\"\n",
    "grupo_valor_bairro = vendas['valor'].groupby(vendas['bairro'])\n",
    "\n",
    "# Computa agregados a partir da variavel gerada\n",
    "print('- quantidade de clientes, por bairro:\\n', grupo_valor_bairro.count())\n",
    "print('-------------------------------------')\n",
    "print('- valor total das vendas, por bairro:\\n', grupo_valor_bairro.sum())\n",
    "print('-------------------------------------')\n",
    "print('- valor médio das vendas, por bairro:\\n', grupo_valor_bairro.mean())\n"
   ]
  },
  {
   "cell_type": "code",
   "execution_count": 4,
   "id": "425b5c25",
   "metadata": {},
   "outputs": [
    {
     "data": {
      "image/png": "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",
      "text/plain": [
       "<Figure size 640x480 with 1 Axes>"
      ]
     },
     "metadata": {},
     "output_type": "display_data"
    }
   ],
   "source": [
    "df = pd.DataFrame({\"x\": list(range(1, 11))})\n",
    "df[\"y\"]= (df.x * 2) + 3\n",
    "lines = df.plot.line(x=\"x\", y=\"y\",legend = False)"
   ]
  },
  {
   "cell_type": "code",
   "execution_count": 5,
   "id": "05c8144e",
   "metadata": {},
   "outputs": [
    {
     "name": "stdout",
     "output_type": "stream",
     "text": [
      "    x   y\n",
      "0   1   5\n",
      "1   2   7\n",
      "2   3   9\n",
      "3   4  11\n",
      "4   5  13\n",
      "5   6  15\n",
      "6   7  17\n",
      "7   8  19\n",
      "8   9  21\n",
      "9  10  23\n"
     ]
    }
   ],
   "source": [
    "print(df)"
   ]
  },
  {
   "cell_type": "code",
   "execution_count": 6,
   "id": "47791839",
   "metadata": {},
   "outputs": [
    {
     "data": {
      "image/png": "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",
      "text/plain": [
       "<Figure size 640x480 with 1 Axes>"
      ]
     },
     "metadata": {},
     "output_type": "display_data"
    }
   ],
   "source": [
    "\n",
    "dados = {\n",
    "    \"óleo de soja\": [71.15, 66.93, 67.91, 67.66],\n",
    "    \"melancia\": [10.52, 15.68, 14.95, 26.23],\n",
    "    \"frango congelado\": [47.17, 23.68, 38.36, 17.08]\n",
    "}\n",
    "\n",
    "df = pd.DataFrame(dados, index=[3, 6, 9, 12])\n",
    "\n",
    "lines = df.plot(kind=\"line\",\n",
    "                style=[\".-\", \"+-\", \"*-\"],\n",
    "                ylim=(0, 100), xlim=(3, 12))\n"
   ]
  },
  {
   "cell_type": "code",
   "execution_count": 8,
   "id": "f08a2377",
   "metadata": {},
   "outputs": [
    {
     "data": {
      "image/png": "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",
      "text/plain": [
       "<Figure size 640x480 with 1 Axes>"
      ]
     },
     "metadata": {},
     "output_type": "display_data"
    }
   ],
   "source": [
    "df = pd.DataFrame([70,25,50], \n",
    "                  index = [\"teatro\",\"escultura\",\"pintura\"])\n",
    "                                       \n",
    "barras = df.plot(kind= \"bar\",legend=False)"
   ]
  },
  {
   "cell_type": "code",
   "execution_count": 9,
   "id": "6fa85645",
   "metadata": {},
   "outputs": [
    {
     "data": {
      "image/png": "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",
      "text/plain": [
       "<Figure size 640x480 with 1 Axes>"
      ]
     },
     "metadata": {},
     "output_type": "display_data"
    }
   ],
   "source": [
    "df = pd.DataFrame({\n",
    "    \"mulheres\": [40, 10, 30],\n",
    "    \"homens\": [30, 15, 20]\n",
    "}, index=[\"teatro\", \"escultura\", \"pintura\"])\n",
    "\n",
    "barras = df.plot(kind=\"bar\", legend=True, color=[\"yellow\", \"blue\"])\n"
   ]
  },
  {
   "cell_type": "code",
   "execution_count": 12,
   "id": "a088aded",
   "metadata": {},
   "outputs": [
    {
     "data": {
      "image/png": "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",
      "text/plain": [
       "<Figure size 640x480 with 1 Axes>"
      ]
     },
     "metadata": {},
     "output_type": "display_data"
    }
   ],
   "source": [
    "df = pd.DataFrame({\n",
    "    \"tempo\": [4, 5, 1, 7, 7, 8, 6, 6, 5,\n",
    "              2, 5, 8, 7, 1, 6, 3, 4, 8,\n",
    "              5, 7, 4, 6, 3, 6, 2, 6, 8]\n",
    "})\n",
    "\n",
    "hist = df.plot(kind=\"hist\", bins=3)\n"
   ]
  },
  {
   "cell_type": "code",
   "execution_count": 15,
   "id": "e5a97553",
   "metadata": {},
   "outputs": [
    {
     "data": {
      "image/png": "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",
      "text/plain": [
       "<Figure size 640x480 with 1 Axes>"
      ]
     },
     "metadata": {},
     "output_type": "display_data"
    }
   ],
   "source": [
    "df = pd.DataFrame({\n",
    "    \"tempo\": [4, 5, 1, 7, 7, 8, 6, 6, 5,\n",
    "              2, 5, 8, 7, 1, 6, 3, 4, 8,\n",
    "              5, 7, 4, 6, 3, 6, 2, 6, 18]\n",
    "})\n",
    "\n",
    "boxplot = df.boxplot(column=[\"tempo\"],\n",
    "                      showmeans=True)"
   ]
  }
 ],
 "metadata": {
  "kernelspec": {
   "display_name": "Python 3",
   "language": "python",
   "name": "python3"
  },
  "language_info": {
   "codemirror_mode": {
    "name": "ipython",
    "version": 3
   },
   "file_extension": ".py",
   "mimetype": "text/x-python",
   "name": "python",
   "nbconvert_exporter": "python",
   "pygments_lexer": "ipython3",
   "version": "3.12.1"
  }
 },
 "nbformat": 4,
 "nbformat_minor": 5
}
