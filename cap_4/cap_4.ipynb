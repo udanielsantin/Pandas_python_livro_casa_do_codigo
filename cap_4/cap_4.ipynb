{
 "cells": [
  {
   "cell_type": "code",
   "execution_count": 3,
   "id": "e28aa528",
   "metadata": {},
   "outputs": [
    {
     "name": "stdout",
     "output_type": "stream",
     "text": [
      "\n",
      "atributos e seus dtypes:\n",
      "------------------------\n",
      "renda           float64\n",
      "empregos          int64\n",
      "sexo             object\n",
      "escolaridade     object\n",
      "dtype: object\n"
     ]
    }
   ],
   "source": [
    "import pandas as pd\n",
    "\n",
    "# cria o DataFrame \"pme\"\n",
    "dados = {\n",
    "    \"renda\": [6.46, 1.50, 0.00, 2.57, 9.90, 6.22],\n",
    "    \"empregos\": [1, 1, 0, 1, 2, 3],\n",
    "    \"sexo\": [\"F\", \"M\", \"F\", \"M\", \"M\", \"F\"],\n",
    "    \"escolaridade\": [\"pós-graduação\", \"fundamental\", \n",
    "                     \"médio\", \"médio\", \n",
    "                     \"superior\", \"médio\"]\n",
    "}\n",
    "\n",
    "pme = pd.DataFrame(dados)\n",
    "\n",
    "# imprime o nome de cada atributo e seu dtype\n",
    "print(\"\\natributos e seus dtypes:\")\n",
    "print(\"------------------------\")\n",
    "print(pme.dtypes)\n"
   ]
  },
  {
   "cell_type": "code",
   "execution_count": null,
   "id": "11dd2812",
   "metadata": {},
   "outputs": [],
   "source": []
  }
 ],
 "metadata": {
  "kernelspec": {
   "display_name": "Python 3",
   "language": "python",
   "name": "python3"
  },
  "language_info": {
   "codemirror_mode": {
    "name": "ipython",
    "version": 3
   },
   "file_extension": ".py",
   "mimetype": "text/x-python",
   "name": "python",
   "nbconvert_exporter": "python",
   "pygments_lexer": "ipython3",
   "version": "3.12.1"
  }
 },
 "nbformat": 4,
 "nbformat_minor": 5
}
