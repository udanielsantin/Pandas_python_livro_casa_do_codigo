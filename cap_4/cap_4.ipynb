{
 "cells": [
  {
   "cell_type": "code",
   "execution_count": 1,
   "id": "e28aa528",
   "metadata": {},
   "outputs": [
    {
     "name": "stdout",
     "output_type": "stream",
     "text": [
      "\n",
      "atributos e seus dtypes:\n",
      "------------------------\n",
      "renda           float64\n",
      "empregos          int64\n",
      "sexo             object\n",
      "escolaridade     object\n",
      "dtype: object\n"
     ]
    }
   ],
   "source": [
    "import pandas as pd\n",
    "\n",
    "# cria o DataFrame \"pme\"\n",
    "dados = {\n",
    "    \"renda\": [6.46, 1.50, 0.00, 2.57, 9.90, 6.22],\n",
    "    \"empregos\": [1, 1, 0, 1, 2, 3],\n",
    "    \"sexo\": [\"F\", \"M\", \"F\", \"M\", \"M\", \"F\"],\n",
    "    \"escolaridade\": [\"pós-graduação\", \"fundamental\", \n",
    "                     \"médio\", \"médio\", \n",
    "                     \"superior\", \"médio\"]\n",
    "}\n",
    "\n",
    "pme = pd.DataFrame(dados)\n",
    "\n",
    "# imprime o nome de cada atributo e seu dtype\n",
    "print(\"\\natributos e seus dtypes:\")\n",
    "print(\"------------------------\")\n",
    "print(pme.dtypes)\n"
   ]
  },
  {
   "cell_type": "code",
   "execution_count": 2,
   "id": "11dd2812",
   "metadata": {},
   "outputs": [
    {
     "name": "stdout",
     "output_type": "stream",
     "text": [
      "média: 2.857142857142857\n",
      "mediana: 3.0\n",
      "moda: ['RECLAMACAO']\n"
     ]
    }
   ],
   "source": [
    "#P23 Estatísticas básicas: medidas de tendência central\n",
    "\n",
    "# Cria o DataFrame\n",
    "dados = {\n",
    "    \"jogador\": [\"Marcelo\",\n",
    "                \"Pedro\",\n",
    "                \"Marcelo\",\n",
    "                \"Adriano\",\n",
    "                \"Mauro\",\n",
    "                \"Pedro\",\n",
    "                \"Marcelo\"],\n",
    "    \n",
    "    \"infracao\": [\"FALTA VIOLENTA\",\n",
    "                 \"RECLAMACAO\",\n",
    "                 \"FALTA COMUM\",\n",
    "                 \"RECLAMACAO\",\n",
    "                 \"FALTA COMUM\",\n",
    "                 \"FALTA VIOLENTA\",\n",
    "                 \"RECLAMACAO\"],\n",
    "    \n",
    "    \"punicao\": [4, 1, 3, 2, 4, 4, 2]\n",
    "}\n",
    "\n",
    "df = pd.DataFrame(dados)\n",
    "\n",
    "# Calcula as medidas de tendência central\n",
    "print(\"média:\", df[\"punicao\"].mean())\n",
    "print(\"mediana:\", df[\"punicao\"].median())\n",
    "print(\"moda:\", df[\"infracao\"].mode().values)\n"
   ]
  },
  {
   "cell_type": "code",
   "execution_count": 3,
   "id": "1a9d59dc",
   "metadata": {},
   "outputs": [
    {
     "name": "stdout",
     "output_type": "stream",
     "text": [
      "Juiz A\n",
      "--------\n",
      "amplitude: 3\n",
      "variância: 1.476190476190476\n",
      "desvio padrão: 1.2149857925879117\n",
      "\n",
      "Juiz B\n",
      "--------\n",
      "amplitude: 5\n",
      "variância: 4.476190476190476\n",
      "desvio padrão: 2.1157009420498154\n"
     ]
    }
   ],
   "source": [
    "#P24 Estatísticas básicas: medidas de variabilidade\n",
    "# Cria o DataFrame\n",
    "dados = {\n",
    "    \"jogador\": [\"Marcelo\",\n",
    "                \"Pedro\",\n",
    "                \"Marcelo\",\n",
    "                \"Adriano\",\n",
    "                \"Mauro\",\n",
    "                \"Pedro\",\n",
    "                \"Marcelo\"],\n",
    "    \n",
    "    \"infracao\": [\"FALTA VIOLENTA\",\n",
    "                 \"RECLAMACAO\",\n",
    "                 \"FALTA COMUM\",\n",
    "                 \"RECLAMACAO\",\n",
    "                 \"FALTA COMUM\",\n",
    "                 \"FALTA VIOLENTA\",\n",
    "                 \"RECLAMACAO\"],\n",
    "    \n",
    "    \"juiz_A\": [4, 1, 3, 2, 4, 4, 2],\n",
    "    \"juiz_B\": [2, 1, 4, 1, 1, 5, 6]\n",
    "}\n",
    "\n",
    "df = pd.DataFrame(dados)\n",
    "\n",
    "# Calcula as medidas de variabilidade\n",
    "print(\"Juiz A\")\n",
    "print(\"--------\")\n",
    "print(\"amplitude:\", df[\"juiz_A\"].max() - df[\"juiz_A\"].min())\n",
    "print(\"variância:\", df[\"juiz_A\"].var())\n",
    "print(\"desvio padrão:\", df[\"juiz_A\"].std())\n",
    "\n",
    "print(\"\\nJuiz B\")\n",
    "print(\"--------\")\n",
    "print(\"amplitude:\", df[\"juiz_B\"].max() - df[\"juiz_B\"].min())\n",
    "print(\"variância:\", df[\"juiz_B\"].var())\n",
    "print(\"desvio padrão:\", df[\"juiz_B\"].std())"
   ]
  },
  {
   "cell_type": "code",
   "execution_count": 4,
   "id": "85fcdf11",
   "metadata": {},
   "outputs": [
    {
     "data": {
      "image/png": "[encoded data removed]",
      "text/plain": [
       "<Figure size 640x480 with 1 Axes>"
      ]
     },
     "metadata": {},
     "output_type": "display_data"
    }
   ],
   "source": [
    "#P25 Boxplot - comparação de distribuições\n",
    "df = pd.DataFrame({\n",
    "    \"homens\": [4, 2, 7, 3, 1, 4, 2, 4, 8, 1],\n",
    "    \"mulheres\": [5, 4, 6, 5, 4, 2, 6, 6, 4, 3]\n",
    "})\n",
    "\n",
    "boxplot = df.boxplot(column=['homens', 'mulheres'], showmeans=True)"
   ]
  },
  {
   "cell_type": "code",
   "execution_count": 5,
   "id": "bda5644f",
   "metadata": {},
   "outputs": [
    {
     "name": "stdout",
     "output_type": "stream",
     "text": [
      "\n",
      "Notas finais: \n",
      "--------------------------\n",
      "     A1   A2   A3   A4\n",
      "P1  9.8  5.3  5.5  7.0\n",
      "P2  7.2  4.0  8.1  7.5\n",
      "P3  8.0  3.5  7.2  6.5\n",
      "\n",
      "Média de cada aluno:\n",
      "--------------------------\n",
      "A1    8.333333\n",
      "A2    4.266667\n",
      "A3    6.933333\n",
      "A4    7.000000\n",
      "dtype: float64\n",
      "\n",
      "Maior nota de cada aluno:\n",
      "--------------------------\n",
      "A1    9.8\n",
      "A2    5.3\n",
      "A3    8.1\n",
      "A4    7.5\n",
      "dtype: float64\n",
      "\n",
      "Média de cada prova:\n",
      "--------------------------\n",
      "P1    6.9\n",
      "P2    6.7\n",
      "P3    6.3\n",
      "dtype: float64\n",
      "\n",
      "Maior nota de cada prova:\n",
      "--------------------------\n",
      "P1    9.8\n",
      "P2    8.1\n",
      "P3    8.0\n",
      "dtype: float64\n"
     ]
    }
   ],
   "source": [
    "#P26 Estatísticas sobre colunas e linhas de um DataFrame\n",
    "\n",
    "# Cria um DataFrame com as notas de 4 alunos em 3 provas\n",
    "notas = pd.DataFrame({\n",
    "    \"A1\": [9.8, 7.2, 8.0],\n",
    "    \"A2\": [5.3, 4.0, 3.5],\n",
    "    \"A3\": [5.5, 8.1, 7.2],\n",
    "    \"A4\": [7.0, 7.5, 6.5]\n",
    "}, index=[\"P1\", \"P2\", \"P3\"])\n",
    "\n",
    "# Imprime o DataFrame\n",
    "print(\"\\nNotas finais: \")\n",
    "print('--------------------------')\n",
    "print(notas)\n",
    "\n",
    "# Computa e imprime as estatísticas por aluno e prova\n",
    "print('\\nMédia de cada aluno:')\n",
    "print('--------------------------')\n",
    "print(notas.mean())\n",
    "\n",
    "print('\\nMaior nota de cada aluno:')\n",
    "print('--------------------------')\n",
    "print(notas.max())\n",
    "\n",
    "print('\\nMédia de cada prova:')\n",
    "print('--------------------------')\n",
    "print(notas.mean(axis=1))\n",
    "\n",
    "print('\\nMaior nota de cada prova:')\n",
    "print('--------------------------')\n",
    "print(notas.max(axis=1))\n"
   ]
  },
  {
   "cell_type": "code",
   "execution_count": 6,
   "id": "6eff3de0",
   "metadata": {},
   "outputs": [
    {
     "name": "stdout",
     "output_type": "stream",
     "text": [
      "Domínio dos atributos categóricos:\n",
      "----------------------------------\n",
      "sexo: ['F' 'M']\n",
      "bairro: ['Belverde' 'Savassi' 'Anchieta' None]\n",
      "cartao: ['Master' 'Visa' 'Amex' 'Elo']\n",
      "\n",
      "\n",
      "Tabelas de frequência:\n",
      "----------------------\n",
      "N1-sexo:\n",
      "sexo\n",
      "F    4\n",
      "M    2\n",
      "Name: count, dtype: int64\n",
      "\n",
      "N2-bairro:\n",
      "bairro\n",
      "Belverde    2\n",
      "Savassi     2\n",
      "Anchieta    1\n",
      "Name: count, dtype: int64\n",
      "\n",
      "N3-cartão:\n",
      "cartao\n",
      "Master    2\n",
      "Visa      2\n",
      "Amex      1\n",
      "Elo       1\n",
      "Name: count, dtype: int64\n"
     ]
    }
   ],
   "source": [
    "#P28 Métodos unique() e value_counts()\n",
    "import pandas as pd\n",
    "\n",
    "#1-cria o DataFrame\n",
    "dados = {\n",
    "    \"sexo\": [\"F\", \"M\", \"F\", \"F\", \"F\", \"M\"],\n",
    "    \"bairro\": [\"Belverde\", \"Belverde\", \"Savassi\", \"Savassi\", \"Anchieta\", None],\n",
    "    \"valor\": [150.00, 35.00, 80.00, 250.00, 9.90, 25.00],\n",
    "    \"cartao\": [\"Master\", \"Visa\", \"Visa\", \"Amex\", \"Elo\", \"Master\"]\n",
    "}\n",
    "\n",
    "id_clientes = [1, 2, 3, 4, 5, 6]\n",
    "\n",
    "vendas = pd.DataFrame(dados, index=id_clientes)\n",
    "\n",
    "#2-retorna o domínio dos atributos categóricos\n",
    "print(\"Domínio dos atributos categóricos:\")\n",
    "print(\"----------------------------------\")\n",
    "print(\"sexo:\", vendas[\"sexo\"].unique())\n",
    "print(\"bairro:\", vendas[\"bairro\"].unique())\n",
    "print(\"cartao:\", vendas[\"cartao\"].unique())\n",
    "\n",
    "#3-retorna as frequências dos valores de cada coluna categórica\n",
    "print(\"\\n\")\n",
    "print(\"Tabelas de frequência:\")\n",
    "print(\"----------------------\")\n",
    "print(\"N1-sexo:\")\n",
    "print(vendas[\"sexo\"].value_counts())\n",
    "print(\"\\nN2-bairro:\")\n",
    "print(vendas[\"bairro\"].value_counts())\n",
    "print(\"\\nN3-cartão:\")\n",
    "print(vendas[\"cartao\"].value_counts())\n"
   ]
  },
  {
   "cell_type": "code",
   "execution_count": 7,
   "id": "c41ce7ba",
   "metadata": {},
   "outputs": [
    {
     "name": "stdout",
     "output_type": "stream",
     "text": [
      "- quantidade de clientes, por bairro:\n",
      " bairro\n",
      "Anchieta    1\n",
      "Belverde    2\n",
      "Savassi     2\n",
      "Name: valor, dtype: int64\n",
      "-------------------------------------\n",
      "- valor total das vendas, por bairro:\n",
      " bairro\n",
      "Anchieta      9.9\n",
      "Belverde    185.0\n",
      "Savassi     330.0\n",
      "Name: valor, dtype: float64\n",
      "-------------------------------------\n",
      "- valor médio das vendas, por bairro:\n",
      " bairro\n",
      "Anchieta      9.9\n",
      "Belverde     92.5\n",
      "Savassi     165.0\n",
      "Name: valor, dtype: float64\n"
     ]
    }
   ],
   "source": [
    "#P29 Agregaçãocom o método 'group_by()'\n",
    "\n",
    "# Gera uma variável \"grouped\"\n",
    "grupo_valor_bairro = vendas['valor'].groupby(vendas['bairro'])\n",
    "\n",
    "# Computa agregados a partir da variavel gerada\n",
    "print('- quantidade de clientes, por bairro:\\n', grupo_valor_bairro.count())\n",
    "print('-------------------------------------')\n",
    "print('- valor total das vendas, por bairro:\\n', grupo_valor_bairro.sum())\n",
    "print('-------------------------------------')\n",
    "print('- valor médio das vendas, por bairro:\\n', grupo_valor_bairro.mean())\n"
   ]
  },
  {
   "cell_type": "code",
   "execution_count": 8,
   "id": "425b5c25",
   "metadata": {},
   "outputs": [],
   "source": [
    "df = pd.DataFrame({\"x\": list(range(1, 11))})\n",
    "df[\"y\"]= (df.x * 2) + 3\n",
    "lines = df.plot.line(x=\"x\", y=\"y\",legend = False)"
   ]
  },
  {
   "cell_type": "code",
   "execution_count": 9,
   "id": "05c8144e",
   "metadata": {},
   "outputs": [
    {
     "name": "stdout",
     "output_type": "stream",
     "text": [
      "    x   y\n",
      "0   1   5\n",
      "1   2   7\n",
      "2   3   9\n",
      "3   4  11\n",
      "4   5  13\n",
      "5   6  15\n",
      "6   7  17\n",
      "7   8  19\n",
      "8   9  21\n",
      "9  10  23\n"
     ]
    }
   ],
   "source": [
    "print(df)"
   ]
  },
  {
   "cell_type": "code",
   "execution_count": 10,
   "id": "47791839",
   "metadata": {},
   "outputs": [],
   "source": [
    "\n",
    "dados = {\n",
    "    \"óleo de soja\": [71.15, 66.93, 67.91, 67.66],\n",
    "    \"melancia\": [10.52, 15.68, 14.95, 26.23],\n",
    "    \"frango congelado\": [47.17, 23.68, 38.36, 17.08]\n",
    "}\n",
    "\n",
    "df = pd.DataFrame(dados, index=[3, 6, 9, 12])\n",
    "\n",
    "lines = df.plot(kind=\"line\",\n",
    "                style=[\".-\", \"+-\", \"*-\"],\n",
    "                ylim=(0, 100), xlim=(3, 12))\n"
   ]
  },
  {
   "cell_type": "code",
   "execution_count": 11,
   "id": "f08a2377",
   "metadata": {},
   "outputs": [],
   "source": [
    "df = pd.DataFrame([70,25,50], \n",
    "                  index = [\"teatro\",\"escultura\",\"pintura\"])\n",
    "                                       \n",
    "barras = df.plot(kind= \"bar\",legend=False)"
   ]
  },
  {
   "cell_type": "code",
   "execution_count": 12,
   "id": "6fa85645",
   "metadata": {},
   "outputs": [],
   "source": [
    "df = pd.DataFrame({\n",
    "    \"tempo\": [4, 5, 1, 7, 7, 8, 6, 6, 5,\n",
    "              2, 5, 8, 7, 1, 6, 3, 4, 8,\n",
    "              5, 7, 4, 6, 3, 6, 2, 6, 8]\n",
    "})\n",
    "\n",
    "hist = df.plot(kind=\"hist\", bins=3)\n"
   ]
  },
  {
   "cell_type": "code",
   "execution_count": 13,
   "id": "e5a97553",
   "metadata": {},
   "outputs": [],
   "source": [
    "df = pd.DataFrame({\n",
    "    \"tempo\": [4, 5, 1, 7, 7, 8, 6, 6, 5,\n",
    "              2, 5, 8, 7, 1, 6, 3, 4, 8,\n",
    "              5, 7, 4, 6, 3, 6, 2, 6, 18]\n",
    "})\n",
    "\n",
    "boxplot = df.boxplot(column=[\"tempo\"],\n",
    "                      showmeans=True)"
   ]
  }
 ],
 "metadata": {
  "kernelspec": {
   "display_name": "Python 3",
   "language": "python",
   "name": "python3"
  },
  "language_info": {
   "codemirror_mode": {
    "name": "ipython",
    "version": 3
   },
   "file_extension": ".py",
   "mimetype": "text/x-python",
   "name": "python",
   "nbconvert_exporter": "python",
   "pygments_lexer": "ipython3",
   "version": "3.12.1"
  }
 },
 "nbformat": 4,
 "nbformat_minor": 5
}
