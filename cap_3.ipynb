{
 "cells": [
  {
   "cell_type": "markdown",
   "id": "352c495d",
   "metadata": {},
   "source": [
    "# A Estrutura de dados DataFrame"
   ]
  },
  {
   "cell_type": "code",
   "execution_count": 1,
   "id": "ed62841f",
   "metadata": {},
   "outputs": [],
   "source": [
    "import pandas as pd"
   ]
  },
  {
   "cell_type": "code",
   "execution_count": 2,
   "id": "88f305bb",
   "metadata": {},
   "outputs": [
    {
     "name": "stdout",
     "output_type": "stream",
     "text": [
      "           nome continente  extensao  corVerde\n",
      "AR    Argentina    América      2780         0\n",
      "BR       Brasil    América      8511         1\n",
      "FR       França     Europa       644         0\n",
      "IT       Itália     Europa       301         1\n",
      "UK  Reino Unido     Europa       244         0\n"
     ]
    }
   ],
   "source": [
    "# cria o DataFrame\n",
    "dados = {\n",
    "    'nome': ['Argentina', 'Brasil', 'França', 'Itália', 'Reino Unido'],\n",
    "    'continente': ['América', 'América', 'Europa', 'Europa', 'Europa'],\n",
    "    'extensao': [2780, 8511, 644, 301, 244],\n",
    "    'corVerde': [0, 1, 0, 1, 0]\n",
    "}\n",
    "\n",
    "siglas = ['AR', 'BR', 'FR', 'IT', 'UK']\n",
    "\n",
    "paises = pd.DataFrame(dados, index=siglas)\n",
    "\n",
    "# imprime o DataFrame\n",
    "print(paises)"
   ]
  },
  {
   "cell_type": "code",
   "execution_count": 3,
   "id": "d6ec21b1",
   "metadata": {},
   "outputs": [
    {
     "name": "stdout",
     "output_type": "stream",
     "text": [
      "-----------\n",
      "número de linhas:  5\n",
      "número de colunas:  4\n",
      "rótulos das linhas:  Index(['AR', 'BR', 'FR', 'IT', 'UK'], dtype='object')\n",
      "rótulos das colunas:  Index(['nome', 'continente', 'extensao', 'corVerde'], dtype='object')\n",
      "tipo (type):  <class 'pandas.core.frame.DataFrame'>\n",
      "dtypes das colunas:\n",
      " nome          object\n",
      "continente    object\n",
      "extensao       int64\n",
      "corVerde       int64\n",
      "dtype: object\n",
      "dtype dos rótulos das linhas: object\n"
     ]
    }
   ],
   "source": [
    "# Recupera e imprime as propriedades do DataFrame 'paises'\n",
    "print('-----------')\n",
    "num_linhas = paises.shape[0]\n",
    "num_colunas = paises.shape[1]\n",
    "indices = paises.index\n",
    "colunas = paises.columns\n",
    "paises_tipo = type(paises)\n",
    "paises_dtypes = paises.dtypes\n",
    "paises_idx_dtype = paises.index.dtype\n",
    "\n",
    "print('número de linhas: ', num_linhas)\n",
    "print('número de colunas: ', num_colunas)\n",
    "print('rótulos das linhas: ', indices)\n",
    "print('rótulos das colunas: ', colunas)\n",
    "print('tipo (type): ', paises_tipo)\n",
    "print('dtypes das colunas:\\n', paises_dtypes)\n",
    "print('dtype dos rótulos das linhas:', paises_idx_dtype)"
   ]
  },
  {
   "cell_type": "code",
   "execution_count": null,
   "id": "62896b84",
   "metadata": {},
   "outputs": [],
   "source": []
  }
 ],
 "metadata": {
  "kernelspec": {
   "display_name": "Python 3",
   "language": "python",
   "name": "python3"
  },
  "language_info": {
   "codemirror_mode": {
    "name": "ipython",
    "version": 3
   },
   "file_extension": ".py",
   "mimetype": "text/x-python",
   "name": "python",
   "nbconvert_exporter": "python",
   "pygments_lexer": "ipython3",
   "version": "3.12.1"
  }
 },
 "nbformat": 4,
 "nbformat_minor": 5
}
