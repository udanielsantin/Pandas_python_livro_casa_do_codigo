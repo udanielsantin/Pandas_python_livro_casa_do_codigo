{
 "cells": [
  {
   "cell_type": "markdown",
   "id": "352c495d",
   "metadata": {},
   "source": [
    "# A Estrutura de dados DataFrame"
   ]
  },
  {
   "cell_type": "code",
   "execution_count": 2,
   "id": "ed62841f",
   "metadata": {},
   "outputs": [],
   "source": [
    "import pandas as pd"
   ]
  },
  {
   "cell_type": "code",
   "execution_count": 2,
   "id": "88f305bb",
   "metadata": {},
   "outputs": [
    {
     "name": "stdout",
     "output_type": "stream",
     "text": [
      "           nome continente  extensao  corVerde\n",
      "AR    Argentina    América      2780         0\n",
      "BR       Brasil    América      8511         1\n",
      "FR       França     Europa       644         0\n",
      "IT       Itália     Europa       301         1\n",
      "UK  Reino Unido     Europa       244         0\n"
     ]
    }
   ],
   "source": [
    "# cria o DataFrame\n",
    "dados = {\n",
    "    'nome': ['Argentina', 'Brasil', 'França', 'Itália', 'Reino Unido'],\n",
    "    'continente': ['América', 'América', 'Europa', 'Europa', 'Europa'],\n",
    "    'extensao': [2780, 8511, 644, 301, 244],\n",
    "    'corVerde': [0, 1, 0, 1, 0]\n",
    "}\n",
    "\n",
    "siglas = ['AR', 'BR', 'FR', 'IT', 'UK']\n",
    "\n",
    "paises = pd.DataFrame(dados, index=siglas)\n",
    "\n",
    "# imprime o DataFrame\n",
    "print(paises)"
   ]
  },
  {
   "cell_type": "code",
   "execution_count": 3,
   "id": "d6ec21b1",
   "metadata": {},
   "outputs": [
    {
     "name": "stdout",
     "output_type": "stream",
     "text": [
      "-----------\n",
      "número de linhas:  5\n",
      "número de colunas:  4\n",
      "rótulos das linhas:  Index(['AR', 'BR', 'FR', 'IT', 'UK'], dtype='object')\n",
      "rótulos das colunas:  Index(['nome', 'continente', 'extensao', 'corVerde'], dtype='object')\n",
      "tipo (type):  <class 'pandas.core.frame.DataFrame'>\n",
      "dtypes das colunas:\n",
      " nome          object\n",
      "continente    object\n",
      "extensao       int64\n",
      "corVerde       int64\n",
      "dtype: object\n",
      "dtype dos rótulos das linhas: object\n"
     ]
    }
   ],
   "source": [
    "# Recupera e imprime as propriedades do DataFrame 'paises'\n",
    "print('-----------')\n",
    "num_linhas = paises.shape[0]\n",
    "num_colunas = paises.shape[1]\n",
    "indices = paises.index\n",
    "colunas = paises.columns\n",
    "paises_tipo = type(paises)\n",
    "paises_dtypes = paises.dtypes\n",
    "paises_idx_dtype = paises.index.dtype\n",
    "\n",
    "print('número de linhas: ', num_linhas)\n",
    "print('número de colunas: ', num_colunas)\n",
    "print('rótulos das linhas: ', indices)\n",
    "print('rótulos das colunas: ', colunas)\n",
    "print('tipo (type): ', paises_tipo)\n",
    "print('dtypes das colunas:\\n', paises_dtypes)\n",
    "print('dtype dos rótulos das linhas:', paises_idx_dtype)"
   ]
  },
  {
   "cell_type": "code",
   "execution_count": null,
   "id": "62896b84",
   "metadata": {},
   "outputs": [
    {
     "name": "stdout",
     "output_type": "stream",
     "text": [
      "Brasil\n",
      "Brasil\n",
      "1\n",
      "Europa\n",
      "França\n",
      "França\n"
     ]
    },
    {
     "name": "stderr",
     "output_type": "stream",
     "text": [
      "/tmp/ipykernel_1703/782261794.py:4: FutureWarning: Series.__getitem__ treating keys as positions is deprecated. In a future version, integer keys will always be treated as labels (consistent with DataFrame behavior). To access a value by position, use `ser.iloc[pos]`\n",
      "  print(paises.iloc[1][0])              # Segunda linha, primeira coluna\n",
      "/tmp/ipykernel_1703/782261794.py:11: FutureWarning: Series.__getitem__ treating keys as positions is deprecated. In a future version, integer keys will always be treated as labels (consistent with DataFrame behavior). To access a value by position, use `ser.iloc[pos]`\n",
      "  print(paises.loc['IT'][1])            # Linha com índice 'IT', segunda coluna\n"
     ]
    }
   ],
   "source": [
    "# Exemplos de acesso a elementos do DataFrame 'paises' por indexação tradicional\n",
    "\n",
    "# iloc e iat para acesso por índice inteiro\n",
    "# loc e at para acesso por rótulo\n",
    "\n",
    "# Usando iloc para acessar pelo índice inteiro\n",
    "print(paises.iloc[1][0])              # Segunda linha, primeira coluna\n",
    "print(paises.iat[1, 0])               # Segunda linha, primeira coluna (mais rápido)\n",
    "\n",
    "# Usando iloc com nome de coluna\n",
    "print(paises.iloc[3]['corVerde'])     # Quarta linha, coluna 'corVerde'\n",
    "\n",
    "# Usando loc para acessar pelo rótulo do índice\n",
    "print(paises.loc['IT'][1])            # Linha com índice 'IT', segunda coluna\n",
    "print(paises.loc['FR']['nome'])       # Linha com índice 'FR', coluna 'nome'\n",
    "\n",
    "# Usando at para acesso rápido por rótulo\n",
    "print(paises.at['FR', 'nome'])        # Linha 'FR', coluna 'nome'"
   ]
  },
  {
   "cell_type": "code",
   "execution_count": 6,
   "id": "9565c774",
   "metadata": {},
   "outputs": [
    {
     "name": "stdout",
     "output_type": "stream",
     "text": [
      "AR    2780\n",
      "BR    8511\n",
      "FR     644\n",
      "IT     301\n",
      "UK     244\n",
      "Name: extensao, dtype: int64\n",
      "AR    0\n",
      "BR    1\n",
      "FR    0\n",
      "IT    1\n",
      "UK    0\n",
      "Name: corVerde, dtype: int64\n",
      "nome           Brasil\n",
      "continente    América\n",
      "extensao         8511\n",
      "corVerde            1\n",
      "Name: BR, dtype: object\n",
      "nome          França\n",
      "continente    Europa\n",
      "extensao         644\n",
      "corVerde           0\n",
      "Name: FR, dtype: object\n"
     ]
    }
   ],
   "source": [
    "# Exemplos de acesso a elementos do DataFrame 'paises' por fatiamento\n",
    "\n",
    "# loc por rótulo e iloc por posição\n",
    "# Acessando a coluna 'extensao'\n",
    "print(paises['extensao'])\n",
    "\n",
    "# Acessando a coluna 'corVerde'\n",
    "print(paises.corVerde)\n",
    "\n",
    "# Acessando a linha pelo rótulo do índice\n",
    "print(paises.loc['BR'])\n",
    "\n",
    "# Acessando a linha pelo índice inteiro\n",
    "print(paises.iloc[2])"
   ]
  },
  {
   "cell_type": "code",
   "execution_count": 7,
   "id": "12e1d01f",
   "metadata": {},
   "outputs": [
    {
     "name": "stdout",
     "output_type": "stream",
     "text": [
      "existe o rótulo 'BR'? -> True\n",
      "existe o rótulo 'US'? -> False\n",
      "--------------------------\n",
      "existe o rótulo 'corVerde'? -> True\n",
      "existe o rótulo 'corAzul'? -> False\n",
      "--------------------------\n",
      "existe o valor 'Brasil' na coluna 'nome'?\n",
      "AR    False\n",
      "BR     True\n",
      "FR    False\n",
      "IT    False\n",
      "UK    False\n",
      "Name: nome, dtype: bool\n"
     ]
    }
   ],
   "source": [
    "# testa se um dado rótulo de linha existe\n",
    "tem_BR = 'BR' in paises.index\n",
    "tem_US = 'US' in paises.index\n",
    "print(\"existe o rótulo 'BR'? ->\", tem_BR)\n",
    "print(\"existe o rótulo 'US'? ->\", tem_US)\n",
    "print('--------------------------')\n",
    "\n",
    "# testa se um dado rótulo de coluna existe\n",
    "tem_corVerde = 'corVerde' in paises.columns\n",
    "tem_corAzul = 'corAzul' in paises.columns\n",
    "print(\"existe o rótulo 'corVerde'? ->\", tem_corVerde)\n",
    "print(\"existe o rótulo 'corAzul'? ->\", tem_corAzul)\n",
    "print('--------------------------')\n",
    "\n",
    "# testa se valor faz parte de uma coluna\n",
    "tem_Brasil = paises['nome'].isin(['Brasil'])\n",
    "print(\"existe o valor 'Brasil' na coluna 'nome'?\")\n",
    "print(tem_Brasil)"
   ]
  },
  {
   "cell_type": "code",
   "execution_count": 8,
   "id": "ae44d362",
   "metadata": {},
   "outputs": [
    {
     "name": "stdout",
     "output_type": "stream",
     "text": [
      "DataFrame após as alterações:\n",
      "      nome continente  extensao  corVerde\n",
      "BR  Brasil    América      8512         1\n",
      "FR  França     Europa       644         0\n",
      "IT  Itália     Europa       301         1\n",
      "JP   Japão       Ásia       372         0\n"
     ]
    }
   ],
   "source": [
    "# insere o país Japão (JP)\n",
    "paises.loc['JP'] = {\n",
    "    'nome': 'Japão',\n",
    "    'continente': 'Ásia',\n",
    "    'extensao': 372,\n",
    "    'corVerde': 0\n",
    "}\n",
    "\n",
    "# altera a extensão do Brasil\n",
    "paises.at['BR', 'extensao'] = 8512\n",
    "\n",
    "# remove a Argentina e o Reino Unido\n",
    "paises = paises.drop(['AR', 'UK'])\n",
    "\n",
    "print('DataFrame após as alterações:')\n",
    "print(paises)"
   ]
  },
  {
   "cell_type": "code",
   "execution_count": 4,
   "id": "9545bfef",
   "metadata": {},
   "outputs": [
    {
     "name": "stdout",
     "output_type": "stream",
     "text": [
      "              nome continente  extensao  corVerde\n",
      "sigla                                            \n",
      "AR       Argentina    América      2780         0\n",
      "BR          Brasil    América      8511         1\n",
      "FR          França     Europa       644         0\n",
      "IT          Itália     Europa       301         1\n",
      "UK     Reino Unido     Europa       244         0\n"
     ]
    }
   ],
   "source": [
    "#Importação de arquivo CSV\n",
    "\n",
    "paises = pd.read_csv(r'/workspaces/Pandas_python_livro_casa_do_codigo/cap_3/paises.csv', index_col='sigla')\n",
    "print(paises)"
   ]
  },
  {
   "cell_type": "code",
   "execution_count": 5,
   "id": "dd7b0d42",
   "metadata": {},
   "outputs": [
    {
     "name": "stdout",
     "output_type": "stream",
     "text": [
      "  matricula  nota1  nota2\n",
      "0  M0012017    9.8    9.5\n",
      "1  M0022017    5.3    4.1\n",
      "2  M0032017    2.5    8.0\n",
      "3  M0042017    7.5    7.5\n"
     ]
    }
   ],
   "source": [
    "notas = pd.read_csv(r'/workspaces/Pandas_python_livro_casa_do_codigo/cap_3/notas.csv', sep=';', names=['matricula', 'nota1', 'nota2'])\n",
    "print(notas)"
   ]
  },
  {
   "cell_type": "code",
   "execution_count": 8,
   "id": "d6ffc20a",
   "metadata": {},
   "outputs": [
    {
     "name": "stdout",
     "output_type": "stream",
     "text": [
      "            capital   região  população\n",
      "0   Belém            Sudeste    1446042\n",
      "1   Belo Horizonte   Sudeste    2513451\n",
      "2   Boa Vista          Norte     326419\n",
      "3   Curitiba             Sul    1893977\n",
      "4   Florianópolis        Sul     477798\n",
      "5   Macapá             Norte     465495\n",
      "6   Manaus             Norte    2094391\n",
      "7   Palmas             Norte     279856\n",
      "8   Porto Alegre         Sul    1481019\n",
      "9   Porto Velho        Norte     511219\n",
      "10  Rio Branco         Norte     377057\n",
      "11  São Paulo        Sudeste   12038175\n",
      "12  Rio de Janeiro   Sudeste    6498837\n",
      "13  Vitória          Sudeste     359555\n"
     ]
    }
   ],
   "source": [
    "capitais = pd.read_excel(r'/workspaces/Pandas_python_livro_casa_do_codigo/cap_3/capitais.xlsx')\n",
    "print(capitais)"
   ]
  },
  {
   "cell_type": "code",
   "execution_count": 13,
   "id": "e398a535",
   "metadata": {},
   "outputs": [
    {
     "name": "stdout",
     "output_type": "stream",
     "text": [
      "  matricula       notas\n",
      "0  M0012017  [9.8, 9.5]\n",
      "1  M0022017  [5.3, 4.1]\n",
      "2  M0032017  [2.5, 8.0]\n",
      "3  M0042017  [7.5, 7.5]\n"
     ]
    }
   ],
   "source": [
    "import json\n",
    "\n",
    "with open(r'/workspaces/Pandas_python_livro_casa_do_codigo/cap_3/notas.json', 'r') as f:\n",
    "    j_notas = json.load(f)\n",
    "\n",
    "    notas2 = pd.DataFrame(j_notas,columns=['matricula', 'notas'])\n",
    "\n",
    "    print(notas2)"
   ]
  },
  {
   "cell_type": "code",
   "execution_count": null,
   "id": "2cf0fae1",
   "metadata": {},
   "outputs": [],
   "source": [
    "dados = {'codigo': [1001, 1002, 1003, 1004, 1005],\n",
    "         'nome': ['Leite', 'Café', 'Biscoito', 'Chá', 'Torradas']\n",
    "        }\n",
    "\n",
    "produtos = pd.DataFrame(dados)\n",
    "\n",
    "# Exporta o DataFrame 'produtos' para CSV e Excel\n",
    "produtos.to_csv(r'/workspaces/Pandas_python_livro_casa_do_codigo/cap_3/produtos.csv', sep='\\t', index=False)\n",
    "\n",
    "produtos.to_excel(r'/workspaces/Pandas_python_livro_casa_do_codigo/cap_3/produtos.xlsx')"
   ]
  },
  {
   "cell_type": "code",
   "execution_count": null,
   "id": "1364a203",
   "metadata": {},
   "outputs": [],
   "source": []
  }
 ],
 "metadata": {
  "kernelspec": {
   "display_name": "Python 3",
   "language": "python",
   "name": "python3"
  },
  "language_info": {
   "codemirror_mode": {
    "name": "ipython",
    "version": 3
   },
   "file_extension": ".py",
   "mimetype": "text/x-python",
   "name": "python",
   "nbconvert_exporter": "python",
   "pygments_lexer": "ipython3",
   "version": "3.12.1"
  }
 },
 "nbformat": 4,
 "nbformat_minor": 5
}
