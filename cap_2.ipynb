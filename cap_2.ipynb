{
 "cells": [
  {
   "cell_type": "markdown",
   "id": "5e9e7887",
   "metadata": {},
   "source": [
    "# A Estrutura de dados Series\n"
   ]
  },
  {
   "cell_type": "code",
   "execution_count": 2,
   "id": "f83bb4ad",
   "metadata": {},
   "outputs": [],
   "source": [
    "import pandas as pd"
   ]
  },
  {
   "cell_type": "code",
   "execution_count": 3,
   "id": "4886886f",
   "metadata": {},
   "outputs": [
    {
     "name": "stdout",
     "output_type": "stream",
     "text": [
      "0    7.6\n",
      "1    5.0\n",
      "2    8.5\n",
      "3    9.5\n",
      "4    6.4\n",
      "dtype: float64\n",
      "---------------\n",
      "M02      Bob\n",
      "M05    Dayse\n",
      "M13     Bill\n",
      "M14     Cris\n",
      "M19     Jimi\n",
      "dtype: object\n"
     ]
    }
   ],
   "source": [
    "#P01: Hello Series!\n",
    "\n",
    "#cria a Series notas\n",
    "notas = pd.Series([7.6, 5.0, 8.5, 9.5, 6.4])\n",
    "\n",
    "#cria a Series alunos\n",
    "lst_matriculas = ['M02', 'M05', 'M13', 'M14', 'M19']\n",
    "lst_nomes = ['Bob', 'Dayse', 'Bill', 'Cris', 'Jimi']\n",
    "alunos = pd.Series(lst_nomes, index=lst_matriculas)\n",
    "\n",
    "#imprime as duas Series\n",
    "print(notas); print(\"---------------\"); print(alunos)\n"
   ]
  },
  {
   "cell_type": "code",
   "execution_count": 4,
   "id": "5e7c0d83",
   "metadata": {},
   "outputs": [
    {
     "name": "stdout",
     "output_type": "stream",
     "text": [
      "matrículas\n",
      "M02      Bob\n",
      "M05    Dayse\n",
      "M13     Bill\n",
      "M14     Cris\n",
      "M19     Jimi\n",
      "Name: alunos, dtype: object\n",
      "---------\n",
      "número de elementos: 5\n",
      "vetor de dados: ['Bob' 'Dayse' 'Bill' 'Cris' 'Jimi']\n",
      "vetor de rótulos: Index(['M02', 'M05', 'M13', 'M14', 'M19'], dtype='object', name='matrículas')\n",
      "tipo (type): <class 'pandas.core.series.Series'>\n",
      "dtype da Series: object\n",
      "dtype do vetor de rótulos: object\n"
     ]
    }
   ],
   "source": [
    "#P02: Propriedades básicas das Series\n",
    "\n",
    "#cria a Series \"alunos\"\n",
    "alunos = pd.Series({'M02':'Bob', 'M05':'Dayse', 'M13':'Bill', \n",
    "                    'M14':'Cris', 'M19':'Jimi'})\n",
    "\n",
    "#atribui nomes p/ os vetores de dados e rótulos\n",
    "alunos.name = \"alunos\"\n",
    "alunos.index.name = \"matrículas\"\n",
    "\n",
    "#recupera e imprime as propriedades\n",
    "print(alunos)\n",
    "print('---------')\n",
    "tamanho      = alunos.size\n",
    "dados        = alunos.values\n",
    "rotulos      = alunos.index\n",
    "alunos_tipo  = type(alunos)\n",
    "alunos_dtype = alunos.dtype\n",
    "alunos_idx_dtype = alunos.index.dtype\n",
    "\n",
    "print('número de elementos:', tamanho)\n",
    "print('vetor de dados:', dados)\n",
    "print('vetor de rótulos:', rotulos)\n",
    "print('tipo (type):', alunos_tipo)\n",
    "print('dtype da Series:', alunos_dtype)\n",
    "print('dtype do vetor de rótulos:', alunos_idx_dtype)"
   ]
  },
  {
   "cell_type": "code",
   "execution_count": null,
   "id": "fb7537e3",
   "metadata": {},
   "outputs": [
    {
     "data": {
      "text/plain": [
       "'Bill'"
      ]
     },
     "execution_count": 24,
     "metadata": {},
     "output_type": "execute_result"
    }
   ],
   "source": [
    "#indice unico, retorna 1 elemento\n",
    "alunos['M13']\n",
    "alunos[4]\n",
    "alunos[-1]  # retorna o último elemento"
   ]
  },
  {
   "cell_type": "code",
   "execution_count": 32,
   "id": "f29ced99",
   "metadata": {},
   "outputs": [
    {
     "data": {
      "text/plain": [
       "matrículas\n",
       "M02     Bob\n",
       "M13    Bill\n",
       "M19    Jimi\n",
       "Name: alunos, dtype: object"
      ]
     },
     "execution_count": 32,
     "metadata": {},
     "output_type": "execute_result"
    }
   ],
   "source": [
    "#fatiação, retorna elementos dentro do intervalo\n",
    "alunos[:2]  # retorna os dois primeiros elementos\n",
    "alunos[1:3] # retorna os elementos de índice 1 e 2\n",
    "alunos['M02':'M14']\n",
    "alunos[-4:]\n",
    "alunos[0:5:2]"
   ]
  },
  {
   "cell_type": "code",
   "execution_count": 35,
   "id": "3a61f390",
   "metadata": {},
   "outputs": [
    {
     "name": "stdout",
     "output_type": "stream",
     "text": [
      "relação de alunos aprovados:\n",
      "---------------------------\n",
      "M02     Bob\n",
      "M13    Bill\n",
      "M14    Cris\n",
      "dtype: object\n"
     ]
    },
    {
     "name": "stderr",
     "output_type": "stream",
     "text": [
      "/tmp/ipykernel_2922/3448064857.py:13: FutureWarning: Series.__getitem__ treating keys as positions is deprecated. In a future version, integer keys will always be treated as labels (consistent with DataFrame behavior). To access a value by position, use `ser.iloc[pos]`\n",
      "  print(alunos[idx_aprovados])\n"
     ]
    }
   ],
   "source": [
    "#P03: Indexação booleana\n",
    "# basicamente um filtro com condição verdadeira\n",
    "\n",
    "# cria as Series \"notas\" e \"alunos\" ja foi criado acima\n",
    "notas = pd.Series([7.6, 5.0, 8.5, 9.5, 6.4])\n",
    "\n",
    "# obtém os índices dos alunos aprovados\n",
    "idx_aprovados = notas[notas >= 7].index\n",
    "\n",
    "# imprime os alunos aprovados pelo indice\n",
    "print('relação de alunos aprovados:')\n",
    "print('---------------------------')\n",
    "print(alunos[idx_aprovados])\n"
   ]
  },
  {
   "cell_type": "code",
   "execution_count": 37,
   "id": "cfc25cba",
   "metadata": {},
   "outputs": [
    {
     "name": "stdout",
     "output_type": "stream",
     "text": [
      "existe o rótulo 'M13'? -> True\n",
      "existe o rótulo 'M99'? -> False\n",
      "------------------------\n",
      "existe o valor 'Bob'\n",
      "M02     True\n",
      "M05    False\n",
      "M13    False\n",
      "M14    False\n",
      "M19    False\n",
      "dtype: bool\n"
     ]
    }
   ],
   "source": [
    "#P04: Busca em Series\n",
    "\n",
    "# testa se rótulos fazem parte de uma Series\n",
    "tem_M13 = 'M13' in alunos\n",
    "tem_M99 = 'M99' in alunos\n",
    "print(\"existe o rótulo 'M13'? ->\", tem_M13)\n",
    "print(\"existe o rótulo 'M99'? ->\", tem_M99)\n",
    "print('------------------------')\n",
    "\n",
    "# testa se valor faz parte de uma Series\n",
    "tem_Bob = alunos.isin(['Bob'])\n",
    "print(\"existe o valor 'Bob'\")\n",
    "print(tem_Bob)\n"
   ]
  },
  {
   "cell_type": "code",
   "execution_count": 41,
   "id": "e626ff0e",
   "metadata": {},
   "outputs": [
    {
     "name": "stdout",
     "output_type": "stream",
     "text": [
      "Series original:\n",
      "M02      Bob\n",
      "M05    Dayse\n",
      "M13     Bill\n",
      "M14     Cris\n",
      "M19     Jimi\n",
      "dtype: object\n",
      "---------------------------\n",
      "Series após as alterações:\n",
      "M91     Dayse\n",
      "M92     Billy\n",
      "M93    Cristy\n",
      "M94     Jimmy\n",
      "M95    Rakesh\n",
      "dtype: object\n"
     ]
    }
   ],
   "source": [
    "#P05: Inserindo, Alterando e Removendo elementos de Series\n",
    "# cria a Series \"alunos\"\n",
    "alunos = pd.Series({'M02':'Bob', 'M05':'Dayse', 'M13':'Bill',\n",
    "                    'M14':'Cris', 'M19':'Jimi'})\n",
    "\n",
    "print('Series original:')\n",
    "print(alunos)\n",
    "\n",
    "# insere o aluno de matrícula M55, Rakesh\n",
    "alunos['M55'] = 'Rakesh'\n",
    "\n",
    "# altera os nomes Bill, Cris e Jimi para Billy, Cristy e Jimmy\n",
    "alunos['M13'] = 'Billy'\n",
    "alunos[['M14', 'M19']] = ['Cristy', 'Jimmy']\n",
    "\n",
    "# remove o aluno de matrícula M02 (Bob)\n",
    "alunos = alunos.drop('M02')\n",
    "\n",
    "# altera o indice da Series\n",
    "alunos.index = ['M91', 'M92', 'M93', 'M94','M95']\n",
    "print('---------------------------')\n",
    "print('Series após as alterações:')\n",
    "print(alunos)\n"
   ]
  },
  {
   "cell_type": "code",
   "execution_count": 44,
   "id": "ea2586a2",
   "metadata": {},
   "outputs": [
    {
     "name": "stdout",
     "output_type": "stream",
     "text": [
      "Bob\n",
      "Dayse\n",
      "Bill\n",
      "Cris\n",
      "Jimi\n",
      "M02\n",
      "M05\n",
      "M13\n",
      "M14\n",
      "M19\n"
     ]
    }
   ],
   "source": [
    "#P06: Iteração\n",
    "\n",
    "alunos = pd.Series({'M02':'Bob', 'M05':'Dayse', 'M13':'Bill',\n",
    "                    'M14':'Cris', 'M19':'Jimi'})\n",
    "\n",
    "# itera sobre os dados (nomes dos alunos)\n",
    "for aluno in alunos: \n",
    "    print(aluno)\n",
    "\n",
    "# itera sobre os índices (matrículas)\n",
    "for indice in alunos.index: \n",
    "    print(indice)\n"
   ]
  },
  {
   "cell_type": "code",
   "execution_count": 2,
   "id": "95985370",
   "metadata": {},
   "outputs": [
    {
     "name": "stdout",
     "output_type": "stream",
     "text": [
      "s1:\n",
      "0    2\n",
      "1    4\n",
      "2    6\n",
      "dtype: int64\n",
      "s2:\n",
      "0    1\n",
      "1    3\n",
      "2    5\n",
      "dtype: int64\n",
      "--------------------------\n",
      "s1 * 2\n",
      "0     4\n",
      "1     8\n",
      "2    12\n",
      "dtype: int64\n",
      "--------------------------\n",
      "s1 + s2\n",
      "0     3\n",
      "1     7\n",
      "2    11\n",
      "dtype: int64\n",
      "--------------------------\n",
      "raiz quadrada dos elementos de s1\n",
      "0    1.414214\n",
      "1    2.000000\n",
      "2    2.449490\n",
      "dtype: float64\n"
     ]
    }
   ],
   "source": [
    "#P07: Operações aritméticas com computação vetorizada\n",
    "import pandas as pd\n",
    "import numpy as np\n",
    "\n",
    "# cria as Series s1 e s2\n",
    "s1 = pd.Series([2, 4, 6])\n",
    "s2 = pd.Series([1, 3, 5])\n",
    "print('s1:'); print(s1)\n",
    "print('s2:'); print(s2)\n",
    "\n",
    "# efetua as operações aritméticas\n",
    "print('--------------------------')\n",
    "print('s1 * 2')\n",
    "print(s1 * 2)\n",
    "\n",
    "print('--------------------------')\n",
    "print('s1 + s2')\n",
    "print(s1 + s2)\n",
    "\n",
    "print('--------------------------')\n",
    "print('raiz quadrada dos elementos de s1')\n",
    "print(np.sqrt(s1))  # com a Numpy!\n"
   ]
  },
  {
   "cell_type": "code",
   "execution_count": null,
   "id": "f46ea8ea",
   "metadata": {},
   "outputs": [
    {
     "name": "stdout",
     "output_type": "stream",
     "text": [
      "soma:\n",
      "AR    NaN\n",
      "BR    2.0\n",
      "FR    1.0\n",
      "IT    1.0\n",
      "UK    1.0\n",
      "dtype: float64\n",
      "------------------------\n",
      "isnull(soma):\n",
      "AR     True\n",
      "BR    False\n",
      "FR    False\n",
      "IT    False\n",
      "UK    False\n",
      "dtype: bool\n"
     ]
    }
   ],
   "source": [
    "#P08: o valor NaN\n",
    "\n",
    "verde = pd.Series({'BR':1, 'FR': 0, 'IT':1, 'UK': 0})\n",
    "azul = pd.Series({'AR':1, 'BR':1, 'FR': 1, 'IT':0, 'UK': 1})\n",
    "\n",
    "soma = verde + azul\n",
    "print(\"soma:\")\n",
    "print(soma)\n",
    "print('------------------------')\n",
    "\n",
    "print(\"isnull(soma):\")\n",
    "print(pd.isnull(soma))\n"
   ]
  },
  {
   "cell_type": "code",
   "execution_count": 14,
   "id": "f824b076",
   "metadata": {},
   "outputs": [
    {
     "name": "stdout",
     "output_type": "stream",
     "text": [
      "2019-02-10    31\n",
      "2019-02-11    35\n",
      "2019-02-12    34\n",
      "2019-02-13    28\n",
      "2019-02-14    27\n",
      "2019-02-15    27\n",
      "dtype: int64\n",
      "DatetimeIndex(['2019-02-10', '2019-02-11', '2019-02-12', '2019-02-13',\n",
      "               '2019-02-14', '2019-02-15'],\n",
      "              dtype='datetime64[ns]', freq=None)\n"
     ]
    }
   ],
   "source": [
    "#P09: Índices datetime\n",
    "# (1) - cria a série temporal\n",
    "dias = ['10/02/2019', '11/02/2019', '12/02/2019', '13/02/2019',\n",
    "        '14/02/2019', '15/02/2019']\n",
    "\n",
    "temp_max = [31, 35, 34, 28, 27, 27]\n",
    "\n",
    "serie_temporal = pd.Series(temp_max, index=dias)\n",
    "\n",
    "# (2) - converte o tipo do índice para datetime e imprime a série\n",
    "serie_temporal.index = pd.to_datetime(serie_temporal.index, \n",
    "                                      format='%d/%m/%Y')\n",
    "\n",
    "print(serie_temporal)\n",
    "print(serie_temporal.index)"
   ]
  },
  {
   "cell_type": "code",
   "execution_count": 17,
   "id": "86d27da5",
   "metadata": {},
   "outputs": [
    {
     "name": "stdout",
     "output_type": "stream",
     "text": [
      "América  AR     Peso\n",
      "         BR     Real\n",
      "Europa   FR     Euro\n",
      "         IT     Euro\n",
      "         UK    Libra\n",
      "dtype: object\n",
      "-------------------\n",
      "AR    Peso\n",
      "BR    Real\n",
      "dtype: object\n",
      "-------------------\n",
      "Europa    Euro\n",
      "dtype: object\n",
      "-------------------\n",
      "Euro\n"
     ]
    }
   ],
   "source": [
    "#P10: Indexação hierárquica\n",
    "import pandas as pd\n",
    "\n",
    "moedas = ['Peso', 'Real', 'Euro', 'Euro', 'Libra']\n",
    "paises = [['América', 'América', 'Europa', 'Europa', 'Europa'],\n",
    "          ['AR', 'BR', 'FR', 'IT', 'UK']]\n",
    "\n",
    "paises = pd.Series(moedas, index=paises)\n",
    "\n",
    "print(paises)                       # imprime toda a Series\n",
    "print('-------------------')\n",
    "print(paises['América'])           # {'AR': Peso, 'BR': Real}\n",
    "print('-------------------')\n",
    "print(paises[:, 'IT'])             # {'Europa': Euro}\n",
    "print('-------------------')\n",
    "print(paises['Europa', 'IT'])      # Euro\n"
   ]
  }
 ],
 "metadata": {
  "kernelspec": {
   "display_name": "Python 3",
   "language": "python",
   "name": "python3"
  },
  "language_info": {
   "codemirror_mode": {
    "name": "ipython",
    "version": 3
   },
   "file_extension": ".py",
   "mimetype": "text/x-python",
   "name": "python",
   "nbconvert_exporter": "python",
   "pygments_lexer": "ipython3",
   "version": "3.12.1"
  }
 },
 "nbformat": 4,
 "nbformat_minor": 5
}
