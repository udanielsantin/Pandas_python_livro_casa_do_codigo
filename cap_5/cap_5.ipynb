{
 "cells": [
  {
   "cell_type": "code",
   "execution_count": 1,
   "id": "09dbf7f4",
   "metadata": {},
   "outputs": [
    {
     "name": "stdout",
     "output_type": "stream",
     "text": [
      "  loja  dia  valor\n",
      "0    A  sex   7500\n",
      "1    A  sab   9500\n",
      "2    A  dom   8200\n",
      "3    B  sex   5100\n",
      "4    B  sab   8250\n",
      "5    B  dom   9900\n",
      "6    C  sab   7500\n",
      "7    C  dom  11800\n"
     ]
    }
   ],
   "source": [
    "#P39: Concatenação de DataFrames\n",
    "import pandas as pd\n",
    "\n",
    "#(1)-Cria os DataFrames com as vendas de cada loja\n",
    "lojaA = pd.DataFrame({\n",
    "    \"loja\": [\"A\", \"A\", \"A\"],\n",
    "    \"dia\": [\"sex\", \"sab\", \"dom\"],\n",
    "    \"valor\": [7500, 9500, 8200]\n",
    "})\n",
    "\n",
    "lojaB = pd.DataFrame({\n",
    "    \"loja\": [\"B\", \"B\", \"B\"],\n",
    "    \"dia\": [\"sex\", \"sab\", \"dom\"],\n",
    "    \"valor\": [5100, 8250, 9900]\n",
    "})\n",
    "\n",
    "lojaC = pd.DataFrame({\n",
    "    \"loja\": [\"C\", \"C\"],\n",
    "    \"dia\": [\"sab\", \"dom\"],\n",
    "    \"valor\": [7500, 11800]\n",
    "})\n",
    "\n",
    "#(2)-Concatena tudo em um único DataFrame\n",
    "lojasABC = pd.concat([lojaA, lojaB, lojaC], ignore_index=True)\n",
    "\n",
    "print(lojasABC)\n"
   ]
  },
  {
   "cell_type": "code",
   "execution_count": 2,
   "id": "78fda4ce",
   "metadata": {},
   "outputs": [
    {
     "name": "stdout",
     "output_type": "stream",
     "text": [
      "     carro     animal\n",
      "0  Hyundai        NaN\n",
      "1  Renault        NaN\n",
      "2     Fiat        NaN\n",
      "3      NaN   Capivara\n",
      "4      NaN  Bem-te-vi\n"
     ]
    }
   ],
   "source": [
    "#P40: Concatenação de DataFrames Incompatíveis\n",
    "import pandas as pd\n",
    "\n",
    "#(1)-Cria dois DataFrames com definição diferente\n",
    "d1 = pd.DataFrame({\"carro\": [\"Hyundai\", \"Renault\", \"Fiat\"]})\n",
    "d2 = pd.DataFrame({\"animal\": [\"Capivara\", \"Bem-te-vi\"]})\n",
    "\n",
    "#(2)-Concatena os DataFrames\n",
    "d3 = pd.concat([d1, d2], ignore_index=True, sort=False)\n",
    "\n",
    "print(d3)\n"
   ]
  },
  {
   "cell_type": "code",
   "execution_count": 5,
   "id": "56e17885",
   "metadata": {},
   "outputs": [
    {
     "name": "stdout",
     "output_type": "stream",
     "text": [
      "--------------------------\n",
      "Alunos Distintos:\n",
      "                  email\n",
      "0        rakesh@xyz.com\n",
      "1    ecg@acmecorpus.com\n",
      "2           ana@xyz.com\n",
      "3  jonas@acmecorpus.com\n",
      "--------------------------\n",
      "Alunos cursaram SQL e Python:\n",
      "            email\n",
      "0  rakesh@xyz.com\n",
      "--------------------------\n",
      "Alunos cursaram apenas SQL:\n",
      "                email\n",
      "1  ecg@acmecorpus.com\n",
      "--------------------------\n",
      "Alunos cursaram apenas Python:\n",
      "                  email\n",
      "0           ana@xyz.com\n",
      "1  jonas@acmecorpus.com\n"
     ]
    }
   ],
   "source": [
    "#P41: Operações de conjunto\n",
    "import pandas as pd\n",
    "\n",
    "#(1)-Cria dois DataFrames com e-mails\n",
    "df_sql = pd.DataFrame({\"email\": [\"rakesh@xyz.com\",\n",
    "                                 \"ecg@acmecorpus.com\"]})\n",
    "\n",
    "df_python = pd.DataFrame({\"email\": [\"ana@xyz.com\",\n",
    "                                    \"jonas@acmecorpus.com\",\n",
    "                                    \"rakesh@xyz.com\"]})\n",
    "\n",
    "#(2)-Efetua as operações de conjunto\n",
    "\n",
    "#2.1 União (relação de alunos distintos)\n",
    "alunos = pd.concat([df_sql, df_python], ignore_index=True)\n",
    "alunos = alunos.drop_duplicates()\n",
    "\n",
    "#2.2 Interseção (quem fez ambos os cursos)\n",
    "sql_e_python = df_sql.merge(df_python)\n",
    "\n",
    "#2.3 Diferença (quem fez só SQL e quem fez só Python)\n",
    "so_sql = df_sql[df_sql.email.isin(df_python.email) == False]\n",
    "so_python = df_python[df_python.email.isin(df_sql.email) == False]\n",
    "\n",
    "#(3)-Imprime os resultados\n",
    "print('--------------------------')\n",
    "print('Alunos Distintos:')\n",
    "print(alunos)\n",
    "print('--------------------------')\n",
    "print('Alunos cursaram SQL e Python:')\n",
    "print(sql_e_python)\n",
    "print('--------------------------')\n",
    "print('Alunos cursaram apenas SQL:')\n",
    "print(so_sql)\n",
    "print('--------------------------')\n",
    "print('Alunos cursaram apenas Python:')\n",
    "print(so_python)\n"
   ]
  },
  {
   "cell_type": "code",
   "execution_count": 7,
   "id": "be5b5881",
   "metadata": {},
   "outputs": [
    {
     "name": "stdout",
     "output_type": "stream",
     "text": [
      "filmes1 é igual à filmes2 -> False\n",
      "filmes1 é igual à filmes3 -> True\n"
     ]
    }
   ],
   "source": [
    "#P42: Comparação de DataFrames\n",
    "import pandas as pd\n",
    "\n",
    "#(1)-Cria três DataFrames de Filmes\n",
    "filmes1 = pd.DataFrame({\n",
    "    \"titulo\": [\"O Filho da Noiva\", \"La La Land\"],\n",
    "    \"ano\": [2001, 2017]\n",
    "})\n",
    "\n",
    "filmes2 = pd.DataFrame({\n",
    "    \"titulo\": [\"Noel, Poeta da Vila\", \"La La Land\"],\n",
    "    \"ano\": [2007, 2017]\n",
    "})\n",
    "\n",
    "filmes3 = pd.DataFrame({\n",
    "    \"titulo\": [\"O Filho da Noiva\", \"La La Land\"],\n",
    "    \"ano\": [2001, 2017]\n",
    "})\n",
    "\n",
    "#(2)-Verifica quais DataFrames são iguais\n",
    "# (possuem o mesmo conteúdo)\n",
    "print('filmes1 é igual à filmes2 ->', filmes1.equals(filmes2))\n",
    "print('filmes1 é igual à filmes3 ->', filmes1.equals(filmes3))\n"
   ]
  },
  {
   "cell_type": "code",
   "execution_count": 8,
   "id": "4ec8af25",
   "metadata": {},
   "outputs": [
    {
     "name": "stdout",
     "output_type": "stream",
     "text": [
      "------------------------------\n",
      "R:\n",
      "   a  b\n",
      "0  1  2\n",
      "1  7  4\n",
      "------------------------------\n",
      "S:\n",
      "   b  c  d\n",
      "0  2  3  5\n",
      "1  4  6  9\n",
      "2  9  1  5\n",
      "------------------------------\n",
      "Junção natural entre R e S:\n",
      "   a  b  c  d\n",
      "0  1  2  3  5\n",
      "1  7  4  6  9\n"
     ]
    }
   ],
   "source": [
    "#P43: Junção Natural\n",
    "import pandas as pd\n",
    "\n",
    "#(1)-Cria os DataFrames R e S\n",
    "R = pd.DataFrame({\n",
    "    \"a\": [1, 7],\n",
    "    \"b\": [2, 4]\n",
    "})\n",
    "\n",
    "S = pd.DataFrame({\n",
    "    \"b\": [2, 4, 9],\n",
    "    \"c\": [3, 6, 1],\n",
    "    \"d\": [5, 9, 5]\n",
    "})\n",
    "\n",
    "#(2)-Efetua a operação de junção\n",
    "juncao_natural = pd.merge(R, S)\n",
    "\n",
    "print('------------------------------')\n",
    "print(\"R:\")\n",
    "print(R)\n",
    "print('------------------------------')\n",
    "print(\"S:\")\n",
    "print(S)\n",
    "print('------------------------------')\n",
    "print(\"Junção natural entre R e S:\")\n",
    "print(juncao_natural)\n"
   ]
  },
  {
   "cell_type": "code",
   "execution_count": 11,
   "id": "48a23e62",
   "metadata": {},
   "outputs": [
    {
     "name": "stdout",
     "output_type": "stream",
     "text": [
      "------------------------------\n",
      "depto:\n",
      "   id nomDepto local\n",
      "0  D1  Compras    SP\n",
      "1  D2       RH    RJ\n",
      "2  D3       TI    RJ\n",
      "3  D4   Vendas    SP\n",
      "------------------------------\n",
      "emp:\n",
      "    num    nome  salario idDepto\n",
      "0  3199     Ana     1600      D2\n",
      "1  3269   David     2975      D3\n",
      "2  3555    José     1500    None\n",
      "3  3788  Marina     5000      D2\n",
      "4  3844    Luís     3000      D4\n",
      "------------------------------\n",
      "Junção interna:\n",
      "    num    nome  salario idDepto  id nomDepto local\n",
      "0  3199     Ana     1600      D2  D2       RH    RJ\n",
      "1  3269   David     2975      D3  D3       TI    RJ\n",
      "2  3788  Marina     5000      D2  D2       RH    RJ\n",
      "3  3844    Luís     3000      D4  D4   Vendas    SP\n",
      "    num    nome nomDepto\n",
      "0  3199     Ana       RH\n",
      "1  3269   David       TI\n",
      "2  3788  Marina       RH\n",
      "3  3844    Luís   Vendas\n"
     ]
    }
   ],
   "source": [
    "#P44: Junção Interna\n",
    "import pandas as pd\n",
    "\n",
    "#(1)-Cria os DataFrames depto e emp\n",
    "dic_depto = {\n",
    "    \"id\": [\"D1\", \"D2\", \"D3\", \"D4\"],\n",
    "    \"nomDepto\": [\"Compras\", \"RH\", \"TI\", \"Vendas\"],\n",
    "    \"local\": [\"SP\", \"RJ\", \"RJ\", \"SP\"]\n",
    "}\n",
    "\n",
    "dic_emp = {\n",
    "    \"num\": [3199, 3269, 3555, 3788, 3844],\n",
    "    \"nome\": [\"Ana\", \"David\", \"José\", \"Marina\", \"Luís\"],\n",
    "    \"salario\": [1600, 2975, 1500, 5000, 3000],\n",
    "    \"idDepto\": [\"D2\", \"D3\", None, \"D2\", \"D4\"]\n",
    "}\n",
    "\n",
    "depto = pd.DataFrame(dic_depto)\n",
    "emp = pd.DataFrame(dic_emp)\n",
    "\n",
    "#(2)-Efetua a operação de junção\n",
    "juncao_interna = pd.merge(emp, depto, left_on=\"idDepto\", right_on=\"id\")\n",
    "\n",
    "print('------------------------------')\n",
    "print(\"depto:\")\n",
    "print(depto)\n",
    "print('------------------------------')\n",
    "print(\"emp:\")\n",
    "print(emp)\n",
    "print('------------------------------')\n",
    "print(\"Junção interna:\")\n",
    "print(juncao_interna)\n",
    "fatia = juncao_interna[['num','nome','nomDepto']]\n",
    "print(fatia)"
   ]
  },
  {
   "cell_type": "code",
   "execution_count": 13,
   "id": "fe85abf1",
   "metadata": {},
   "outputs": [
    {
     "name": "stdout",
     "output_type": "stream",
     "text": [
      "    num    nome  salario idDepto   id nomDepto local\n",
      "0  3199     Ana     1600      D2   D2       RH    RJ\n",
      "1  3269   David     2975      D3   D3       TI    RJ\n",
      "2  3555    José     1500    None  NaN      NaN   NaN\n",
      "3  3788  Marina     5000      D2   D2       RH    RJ\n",
      "4  3844    Luís     3000      D4   D4   Vendas    SP\n"
     ]
    }
   ],
   "source": [
    "left_join = pd.merge(emp,depto,how='left', left_on='idDepto', right_on='id')\n",
    "print(left_join)"
   ]
  },
  {
   "cell_type": "code",
   "execution_count": 15,
   "id": "be091930",
   "metadata": {},
   "outputs": [
    {
     "name": "stdout",
     "output_type": "stream",
     "text": [
      "    id nomDepto local   num    nome  salario idDepto\n",
      "0   D2       RH    RJ  3199     Ana     1600      D2\n",
      "1   D3       TI    RJ  3269   David     2975      D3\n",
      "2  NaN      NaN   NaN  3555    José     1500    None\n",
      "3   D2       RH    RJ  3788  Marina     5000      D2\n",
      "4   D4   Vendas    SP  3844    Luís     3000      D4\n"
     ]
    }
   ],
   "source": [
    "right_join = pd.merge(depto, emp, how='right', left_on='id', right_on='idDepto')\n",
    "print(right_join)"
   ]
  },
  {
   "cell_type": "code",
   "execution_count": 16,
   "id": "c6c63d68",
   "metadata": {},
   "outputs": [
    {
     "name": "stdout",
     "output_type": "stream",
     "text": [
      "      num    nome  salario idDepto   id nomDepto local\n",
      "0     NaN     NaN      NaN     NaN   D1  Compras    SP\n",
      "1  3199.0     Ana   1600.0      D2   D2       RH    RJ\n",
      "2  3788.0  Marina   5000.0      D2   D2       RH    RJ\n",
      "3  3269.0   David   2975.0      D3   D3       TI    RJ\n",
      "4  3844.0    Luís   3000.0      D4   D4   Vendas    SP\n",
      "5  3555.0    José   1500.0    None  NaN      NaN   NaN\n"
     ]
    }
   ],
   "source": [
    "full_join = pd.merge(emp, depto, how='outer', left_on='idDepto', right_on='id')\n",
    "print(full_join)"
   ]
  }
 ],
 "metadata": {
  "kernelspec": {
   "display_name": "Python 3",
   "language": "python",
   "name": "python3"
  },
  "language_info": {
   "codemirror_mode": {
    "name": "ipython",
    "version": 3
   },
   "file_extension": ".py",
   "mimetype": "text/x-python",
   "name": "python",
   "nbconvert_exporter": "python",
   "pygments_lexer": "ipython3",
   "version": "3.12.1"
  }
 },
 "nbformat": 4,
 "nbformat_minor": 5
}
