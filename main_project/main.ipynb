{
 "cells": [
  {
   "cell_type": "markdown",
   "id": "1717eb31",
   "metadata": {},
   "source": [
    "# Projeto Prático\n",
    "### O projeto consiste em realizar tarefas da biblioteca pandas em um dataframe de bandeiras"
   ]
  },
  {
   "cell_type": "markdown",
   "id": "a4438e9d",
   "metadata": {},
   "source": [
    "# cap 3"
   ]
  },
  {
   "cell_type": "code",
   "execution_count": 1,
   "id": "296c0c6f",
   "metadata": {},
   "outputs": [],
   "source": [
    "import pandas as pd"
   ]
  },
  {
   "cell_type": "code",
   "execution_count": 2,
   "id": "57e38e4b",
   "metadata": {},
   "outputs": [],
   "source": [
    "# Importando a base de dados de bandeiras\n",
    "flags = pd.read_csv(r'/workspaces/Pandas_python_livro_casa_do_codigo/main_project/flags.csv')"
   ]
  },
  {
   "cell_type": "code",
   "execution_count": 3,
   "id": "b4776aec",
   "metadata": {},
   "outputs": [
    {
     "name": "stdout",
     "output_type": "stream",
     "text": [
      "head():\n",
      "             name  landmass  zone  area  population  language  religion  bars  \\\n",
      "0     Afghanistan         5     1   648          16        10         2     0   \n",
      "1         Albania         3     1    29           3         6         6     0   \n",
      "2         Algeria         4     1  2388          20         8         2     2   \n",
      "3  American-Samoa         6     3     0           0         1         1     0   \n",
      "4         Andorra         3     1     0           0         6         0     3   \n",
      "\n",
      "   stripes  colours  ...  saltires  quarters  sunstars  crescent  triangle  \\\n",
      "0        3        5  ...         0         0         1         0         0   \n",
      "1        0        3  ...         0         0         1         0         0   \n",
      "2        0        3  ...         0         0         1         1         0   \n",
      "3        0        5  ...         0         0         0         0         1   \n",
      "4        0        3  ...         0         0         0         0         0   \n",
      "\n",
      "   icon  animate text  topleft  botright  \n",
      "0     1        0    0    black     green  \n",
      "1     0        1    0      red       red  \n",
      "2     0        0    0    green     white  \n",
      "3     1        1    0     blue       red  \n",
      "4     0        0    0     blue       red  \n",
      "\n",
      "[5 rows x 30 columns]\n",
      "-----------------------------------------------\n",
      "tail():\n",
      "              name  landmass  zone  area  population  language  religion  \\\n",
      "189  Western-Samoa         6     3     3           0         1         1   \n",
      "190     Yugoslavia         3     1   256          22         6         6   \n",
      "191          Zaire         4     2   905          28        10         5   \n",
      "192         Zambia         4     2   753           6        10         5   \n",
      "193       Zimbabwe         4     2   391           8        10         5   \n",
      "\n",
      "     bars  stripes  colours  ...  saltires  quarters  sunstars  crescent  \\\n",
      "189     0        0        3  ...         0         1         5         0   \n",
      "190     0        3        4  ...         0         0         1         0   \n",
      "191     0        0        4  ...         0         0         0         0   \n",
      "192     3        0        4  ...         0         0         0         0   \n",
      "193     0        7        5  ...         0         0         1         0   \n",
      "\n",
      "     triangle  icon  animate text  topleft  botright  \n",
      "189         0     0        0    0     blue       red  \n",
      "190         0     0        0    0     blue       red  \n",
      "191         0     1        1    0    green     green  \n",
      "192         0     0        1    0    green     brown  \n",
      "193         1     1        1    0    green     green  \n",
      "\n",
      "[5 rows x 30 columns]\n",
      "-----------------------------------------------\n"
     ]
    }
   ],
   "source": [
    "#(2)-alguns métodos para obter informações básicas\n",
    "\n",
    "#imprime as primeiras linhas\n",
    "print('head():'); print(flags.head())\n",
    "print('-----------------------------------------------')\n",
    "\n",
    "#imprime as últimas linhas\n",
    "print('tail():'); print(flags.tail())\n",
    "print('-----------------------------------------------')\n",
    "\n"
   ]
  },
  {
   "cell_type": "code",
   "execution_count": 4,
   "id": "7a2200a3",
   "metadata": {},
   "outputs": [
    {
     "name": "stdout",
     "output_type": "stream",
     "text": [
      "países com verde, amarelo, azul e branco:\n",
      "17                       Belize\n",
      "19                      Bermuda\n",
      "23                       Brazil\n",
      "24         British-Virgin-Isles\n",
      "26                     Bulgaria\n",
      "33               Cayman-Islands\n",
      "34     Central-African-Republic\n",
      "48                     Dominica\n",
      "56           Falklands-Malvinas\n",
      "57                         Fiji\n",
      "71                         Guam\n",
      "78                    Hong-Kong\n",
      "116                  Montserrat\n",
      "135                     Parguay\n",
      "139                    Portugal\n",
      "142                     Romania\n",
      "151             Soloman-Islands\n",
      "158                   St-Helena\n",
      "161                  St-Vincent\n",
      "176         Turks-Cocos-Islands\n",
      "182             US-Virgin-Isles\n",
      "187                   Venezuela\n",
      "Name: name, dtype: object\n"
     ]
    }
   ],
   "source": [
    "#(3)-quem tem verde, amarelo, azul e branco na bandeira\n",
    "\n",
    "#separa as cores\n",
    "verde = flags['green']\n",
    "amarelo = flags['gold']\n",
    "azul = flags['blue']\n",
    "branco = flags['white']\n",
    "soma = verde + amarelo + azul + branco\n",
    "\n",
    "#gera vetor booleano com True para quem tem as 4 cores\n",
    "tem_todas = (soma==4)\n",
    "\n",
    "#imprime os nomes dos países com as quatro cores\n",
    "print('países com verde, amarelo, azul e branco:')\n",
    "print(flags[tem_todas.values]['name'])\n",
    "\n"
   ]
  },
  {
   "cell_type": "code",
   "execution_count": 5,
   "id": "d54d3156",
   "metadata": {},
   "outputs": [
    {
     "name": "stdout",
     "output_type": "stream",
     "text": [
      "                         name  green  gold  blue  white\n",
      "17                     Belize      1     1     1      1\n",
      "19                    Bermuda      1     1     1      1\n",
      "23                     Brazil      1     1     1      1\n",
      "24       British-Virgin-Isles      1     1     1      1\n",
      "26                   Bulgaria      1     1     1      1\n",
      "33             Cayman-Islands      1     1     1      1\n",
      "34   Central-African-Republic      1     1     1      1\n",
      "48                   Dominica      1     1     1      1\n",
      "56         Falklands-Malvinas      1     1     1      1\n",
      "57                       Fiji      1     1     1      1\n",
      "71                       Guam      1     1     1      1\n",
      "78                  Hong-Kong      1     1     1      1\n",
      "116                Montserrat      1     1     1      1\n",
      "135                   Parguay      1     1     1      1\n",
      "139                  Portugal      1     1     1      1\n",
      "142                   Romania      1     1     1      1\n",
      "151           Soloman-Islands      1     1     1      1\n",
      "158                 St-Helena      1     1     1      1\n",
      "161                St-Vincent      1     1     1      1\n",
      "176       Turks-Cocos-Islands      1     1     1      1\n",
      "182           US-Virgin-Isles      1     1     1      1\n",
      "187                 Venezuela      1     1     1      1\n"
     ]
    }
   ],
   "source": [
    "# Exibe apenas as colunas das cores para os países que têm todas as quatro cores\n",
    "print(flags.loc[tem_todas, ['name', 'green', 'gold', 'blue', 'white']])"
   ]
  },
  {
   "cell_type": "markdown",
   "id": "cf389130",
   "metadata": {},
   "source": [
    "# Cap 4\n"
   ]
  },
  {
   "cell_type": "code",
   "execution_count": 6,
   "id": "412cc0dc",
   "metadata": {},
   "outputs": [
    {
     "name": "stdout",
     "output_type": "stream",
     "text": [
      "(1) atributo: name \t dtype: object \t nulos: False \n",
      " domínio (primeiros elementos): ['Afghanistan' 'Albania' 'Algeria' 'American-Samoa' 'Andorra' 'Angola'\n",
      " 'Anguilla' 'Antigua-Barbuda']\n",
      "(2) atributo: landmass \t dtype: int64 \t nulos: False \n",
      " domínio: [5 3 4 6 1 2]\n",
      "(3) atributo: zone \t dtype: int64 \t nulos: False \n",
      " domínio: [1 3 2 4]\n",
      "(4) atributo: area \t dtype: int64 \t nulos: False \n",
      " min: 0 \t max: 22402 \t média: 700.05 \t d.p.: 2170.93\n",
      "(5) atributo: population \t dtype: int64 \t nulos: False \n",
      " min: 0 \t max: 1008 \t média: 23.27 \t d.p.: 91.93\n",
      "(6) atributo: language \t dtype: int64 \t nulos: False \n",
      " min: 1 \t max: 10 \t média: 5.34 \t d.p.: 3.5\n",
      "(7) atributo: religion \t dtype: int64 \t nulos: False \n",
      " min: 0 \t max: 7 \t média: 2.19 \t d.p.: 2.06\n",
      "(8) atributo: bars \t dtype: int64 \t nulos: False \n",
      " domínio: [0 2 3 1 5]\n",
      "(9) atributo: stripes \t dtype: int64 \t nulos: False \n",
      " min: 0 \t max: 14 \t média: 1.55 \t d.p.: 2.33\n",
      "(10) atributo: colours \t dtype: int64 \t nulos: False \n",
      " min: 1 \t max: 8 \t média: 3.46 \t d.p.: 1.3\n",
      "(11) atributo: red \t dtype: int64 \t nulos: False \n",
      " domínio: [1 0]\n",
      "(12) atributo: green \t dtype: int64 \t nulos: False \n",
      " domínio: [1 0]\n",
      "(13) atributo: blue \t dtype: int64 \t nulos: False \n",
      " domínio: [0 1]\n",
      "(14) atributo: gold \t dtype: int64 \t nulos: False \n",
      " domínio: [1 0]\n",
      "(15) atributo: white \t dtype: int64 \t nulos: False \n",
      " domínio: [1 0]\n",
      "(16) atributo: black \t dtype: int64 \t nulos: False \n",
      " domínio: [1 0]\n",
      "(17) atributo: orange \t dtype: int64 \t nulos: False \n",
      " domínio: [0 1]\n",
      "(18) atributo: mainhue \t dtype: object \t nulos: False \n",
      " domínio (primeiros elementos): ['green' 'red' 'blue' 'gold' 'white' 'orange' 'black' 'brown']\n",
      "(19) atributo: circles \t dtype: int64 \t nulos: False \n",
      " domínio: [0 1 4 2]\n",
      "(20) atributo: crosses \t dtype: int64 \t nulos: False \n",
      " domínio: [0 1 2]\n",
      "(21) atributo: saltires \t dtype: int64 \t nulos: False \n",
      " domínio: [0 1]\n",
      "(22) atributo: quarters \t dtype: int64 \t nulos: False \n",
      " domínio: [0 1 4]\n",
      "(23) atributo: sunstars \t dtype: int64 \t nulos: False \n",
      " min: 0 \t max: 50 \t média: 1.39 \t d.p.: 4.4\n",
      "(24) atributo: crescent \t dtype: int64 \t nulos: False \n",
      " domínio: [0 1]\n",
      "(25) atributo: triangle \t dtype: int64 \t nulos: False \n",
      " domínio: [0 1]\n",
      "(26) atributo: icon \t dtype: int64 \t nulos: False \n",
      " domínio: [1 0]\n",
      "(27) atributo: animate \t dtype: int64 \t nulos: False \n",
      " domínio: [0 1]\n",
      "(28) atributo: text \t dtype: int64 \t nulos: False \n",
      " domínio: [0 1]\n",
      "(29) atributo: topleft \t dtype: object \t nulos: False \n",
      " domínio: ['black' 'red' 'green' 'blue' 'white' 'orange' 'gold']\n",
      "(30) atributo: botright \t dtype: object \t nulos: False \n",
      " domínio (primeiros elementos): ['green' 'red' 'white' 'black' 'blue' 'gold' 'orange' 'brown']\n"
     ]
    }
   ],
   "source": [
    "import pandas as pd\n",
    "#---------------------------------------------------\n",
    "\n",
    "flags = pd.read_csv('flags.csv')\n",
    "#---------------------------------------------------\n",
    "\n",
    "#(2)-Obtém as propriedades básicas de cada atributo\n",
    "#---------------------------------------------------\n",
    "i = 0\n",
    "for c in flags.columns:\n",
    "    i += 1\n",
    "    att = flags[c]                         # atributo\n",
    "    att_dtype = att.dtype                  # dtype\n",
    "    att_tam_dominio = att.unique().size   # tamanho do domínio\n",
    "    att_tem_nulo = any(att.isnull())      # possui valor nulo?\n",
    "\n",
    "    if (att_tam_dominio < 8):\n",
    "        print(\"(\"+str(i)+\") atributo:\", c, \"\\t\",\n",
    "              \"dtype:\", att_dtype, \"\\t\",\n",
    "              \"nulos:\", att_tem_nulo, \"\\n\",\n",
    "              \"domínio:\", att.unique())\n",
    "    else:\n",
    "        if (att_dtype == 'object'):\n",
    "            print(\"(\"+str(i)+\") atributo:\", c, \"\\t\",\n",
    "                  \"dtype:\", att_dtype, \"\\t\",\n",
    "                  \"nulos:\", att_tem_nulo, \"\\n\",\n",
    "                  \"domínio (primeiros elementos):\", att.unique()[0:8])\n",
    "        else:\n",
    "            print(\"(\"+str(i)+\") atributo:\", c, \"\\t\",\n",
    "                  \"dtype:\", att_dtype, \"\\t\",\n",
    "                  \"nulos:\", att_tem_nulo, \"\\n\",\n",
    "                  \"min:\", att.min(), \"\\t\",\n",
    "                  \"max:\", att.max(), \"\\t\",\n",
    "                  \"média:\", round(att.mean(),2), \"\\t\",\n",
    "                  \"d.p.:\", round(att.std(),2))\n"
   ]
  },
  {
   "cell_type": "code",
   "execution_count": 7,
   "id": "b5f4120e",
   "metadata": {},
   "outputs": [
    {
     "name": "stdout",
     "output_type": "stream",
     "text": [
      "     red  green  blue  gold  white  black  orange\n",
      "red                                              \n",
      "1    153     91    99    91    146     52      26\n",
      "0     41    103    95   103     48    142     168\n"
     ]
    }
   ],
   "source": [
    "#---------------------------------------------------\n",
    "df_cores = pd.DataFrame()\n",
    "for c in flags.columns:\n",
    "    if c in ['red', 'green', 'blue', 'gold', 'white', 'black', 'orange']:\n",
    "        df_cores[c] = flags[c].value_counts()\n",
    "\n",
    "print(df_cores)\n"
   ]
  },
  {
   "cell_type": "code",
   "execution_count": 8,
   "id": "2dfc7fab",
   "metadata": {},
   "outputs": [
    {
     "data": {
      "text/plain": [
       "array([<Axes: title={'center': 'red'}, ylabel='red'>,\n",
       "       <Axes: title={'center': 'green'}, ylabel='red'>,\n",
       "       <Axes: title={'center': 'blue'}, ylabel='red'>,\n",
       "       <Axes: title={'center': 'gold'}, ylabel='red'>,\n",
       "       <Axes: title={'center': 'white'}, ylabel='red'>,\n",
       "       <Axes: title={'center': 'black'}, ylabel='red'>,\n",
       "       <Axes: title={'center': 'orange'}, ylabel='red'>], dtype=object)"
      ]
     },
     "execution_count": 8,
     "metadata": {},
     "output_type": "execute_result"
    },
    {
     "data": {
      "image/png": "[encoded data removed]",
      "text/plain": [
       "<Figure size 800x2500 with 7 Axes>"
      ]
     },
     "metadata": {},
     "output_type": "display_data"
    }
   ],
   "source": [
    "#---------------------------------------------------\n",
    "lst_cores = ['red',\n",
    "             'green',\n",
    "             'blue',\n",
    "             'gold',\n",
    "             'whitesmoke',\n",
    "             'black',\n",
    "             'orange']\n",
    "\n",
    "df_cores.plot(kind='barh',\n",
    "              subplots=True,\n",
    "              figsize=(8, 25),\n",
    "              color=lst_cores,\n",
    "              legend=False)\n"
   ]
  },
  {
   "cell_type": "markdown",
   "id": "625e530f",
   "metadata": {},
   "source": [
    "# Cap 5"
   ]
  },
  {
   "cell_type": "code",
   "execution_count": 10,
   "id": "e3faf9b6",
   "metadata": {},
   "outputs": [
    {
     "name": "stderr",
     "output_type": "stream",
     "text": [
      "/usr/local/python/3.12.1/lib/python3.12/site-packages/tqdm/auto.py:21: TqdmWarning: IProgress not found. Please update jupyter and ipywidgets. See https://ipywidgets.readthedocs.io/en/stable/user_install.html\n",
      "  from .autonotebook import tqdm as notebook_tqdm\n"
     ]
    },
    {
     "name": "stdout",
     "output_type": "stream",
     "text": [
      "Downloading from https://www.kaggle.com/api/v1/datasets/download/fernandol/countries-of-the-world?dataset_version_number=1...\n"
     ]
    },
    {
     "name": "stderr",
     "output_type": "stream",
     "text": [
      "100%|██████████| 13.4k/13.4k [00:00<00:00, 23.6MB/s]"
     ]
    },
    {
     "name": "stdout",
     "output_type": "stream",
     "text": [
      "Extracting files...\n",
      "Path to dataset files: /home/codespace/.cache/kagglehub/datasets/fernandol/countries-of-the-world/versions/1\n"
     ]
    },
    {
     "name": "stderr",
     "output_type": "stream",
     "text": [
      "\n"
     ]
    }
   ],
   "source": [
    "import kagglehub\n",
    "\n",
    "# Download latest version\n",
    "path = kagglehub.dataset_download(\"fernandol/countries-of-the-world\")\n",
    "\n",
    "print(\"Path to dataset files:\", path)"
   ]
  },
  {
   "cell_type": "code",
   "execution_count": 22,
   "id": "f33f0ba8",
   "metadata": {},
   "outputs": [
    {
     "name": "stdout",
     "output_type": "stream",
     "text": [
      "- Num países em \"flags\": 194\n",
      "- Num países em \"countries\": 227\n",
      "- Num países em ambas: 130\n",
      "- Num países só em \"flags\": 64\n",
      "- Num países só em \"countries\": 97\n",
      "------------------------------\n",
      "Países só em flags:\n",
      "3            American-Samoa\n",
      "7           Antigua-Barbuda\n",
      "9                 Argentine\n",
      "12                  Bahamas\n",
      "24     British-Virgin-Isles\n",
      "               ...         \n",
      "184                    USSR\n",
      "186            Vatican-City\n",
      "189           Western-Samoa\n",
      "190              Yugoslavia\n",
      "191                   Zaire\n",
      "Name: name, Length: 64, dtype: object\n",
      "------------------------------\n",
      "Países só em countries:\n",
      "3         American Samoa\n",
      "7      Antigua & Barbuda\n",
      "9                Armenia\n",
      "10                 Aruba\n",
      "13            Azerbaijan\n",
      "             ...        \n",
      "220       Virgin Islands\n",
      "221    Wallis and Futuna\n",
      "222            West Bank\n",
      "223       Western Sahara\n",
      "224                Yemen\n",
      "Name: Country, Length: 97, dtype: object\n"
     ]
    }
   ],
   "source": [
    "#--------------------------------------------------------\n",
    "#(1)-Importa as bases de dados\n",
    "#--------------------------------------------------------\n",
    "flags = pd.read_csv('flags.csv')\n",
    "countries = pd.read_csv('countries of the world.csv')\n",
    "\n",
    "num_linhas_flags = flags.shape[0]\n",
    "num_linhas_countries = countries.shape[0]\n",
    "\n",
    "#--------------------------------------------------------\n",
    "#(2)-Realiza a junção entre os DataFrames\n",
    "#--------------------------------------------------------\n",
    "\n",
    "#2.1 - Junção Interna: países comuns a ambas as bases\n",
    "ambas = pd.merge(flags, countries,\n",
    "                 how=\"inner\",\n",
    "                 left_on=\"name\", right_on=\"Country\")\n",
    "\n",
    "num_linhas_ambas = ambas.shape[0]\n",
    "\n",
    "#2.2 - Left Join: países apenas em flags\n",
    "so_flags = pd.merge(flags, countries,\n",
    "                    how=\"left\",\n",
    "                    left_on=\"name\", right_on=\"Country\")\n",
    "\n",
    "so_flags = so_flags[pd.isnull(so_flags['Country'])==True]\n",
    "num_linhas_so_flags = so_flags.shape[0]\n",
    "\n",
    "#2.3 - Right Join: países apenas em countries\n",
    "so_countries = pd.merge(flags, countries,\n",
    "                        how=\"right\",\n",
    "                        left_on=\"name\", right_on=\"Country\")\n",
    "\n",
    "so_countries = so_countries[pd.isnull(so_countries['name'])==True]\n",
    "num_linhas_so_countries = so_countries.shape[0]\n",
    "\n",
    "#--------------------------------------------------------\n",
    "#(3)-Imprime os resultados\n",
    "#--------------------------------------------------------\n",
    "print('- Num países em \"flags\":', num_linhas_flags)\n",
    "print('- Num países em \"countries\":', num_linhas_countries)\n",
    "print('- Num países em ambas:', num_linhas_ambas)\n",
    "print('- Num países só em \"flags\":', num_linhas_so_flags)\n",
    "print('- Num países só em \"countries\":', num_linhas_so_countries)\n",
    "print('------------------------------')\n",
    "print('Países só em flags:')\n",
    "print(so_flags['name'])\n",
    "print('------------------------------')\n",
    "print('Países só em countries:')\n",
    "print(so_countries['Country'])\n"
   ]
  },
  {
   "cell_type": "markdown",
   "id": "6886c803",
   "metadata": {},
   "source": [
    "# Cap 6"
   ]
  },
  {
   "cell_type": "code",
   "execution_count": 1,
   "id": "a0590104",
   "metadata": {},
   "outputs": [
    {
     "name": "stdout",
     "output_type": "stream",
     "text": [
      "Head():\n",
      "       area  population  bars   stripes   colours  red  green  blue  gold  \\\n",
      "0  0.028926    0.015873   0.0  0.214286  0.571429    1      1     0     1   \n",
      "1  0.001295    0.002976   0.0  0.000000  0.285714    1      0     0     1   \n",
      "2  0.106598    0.019841   0.4  0.000000  0.285714    1      1     0     0   \n",
      "3  0.000000    0.000000   0.0  0.000000  0.571429    1      0     1     1   \n",
      "4  0.000000    0.000000   0.6  0.000000  0.285714    1      0     1     1   \n",
      "\n",
      "   white  ...  topleft_red  topleft_white  botright_black  botright_blue  \\\n",
      "0      1  ...        False          False           False          False   \n",
      "1      0  ...         True          False           False          False   \n",
      "2      1  ...        False          False           False          False   \n",
      "3      1  ...        False          False           False          False   \n",
      "4      0  ...        False          False           False          False   \n",
      "\n",
      "   botright_brown  botright_gold  botright_green  botright_orange  \\\n",
      "0           False          False            True            False   \n",
      "1           False          False           False            False   \n",
      "2           False          False           False            False   \n",
      "3           False          False           False            False   \n",
      "4           False          False           False            False   \n",
      "\n",
      "   botright_red  botright_white  \n",
      "0         False           False  \n",
      "1          True           False  \n",
      "2         False            True  \n",
      "3          True           False  \n",
      "4          True           False  \n",
      "\n",
      "[5 rows x 73 columns]\n",
      "-----------------------------------------\n",
      "Tail():\n",
      "         area  population  bars   stripes   colours  red  green  blue  gold  \\\n",
      "189  0.000134    0.000000   0.0  0.000000  0.285714    1      0     1     0   \n",
      "190  0.011428    0.021825   0.0  0.214286  0.428571    1      0     1     1   \n",
      "191  0.040398    0.027778   0.0  0.000000  0.428571    1      1     0     1   \n",
      "192  0.033613    0.005952   0.6  0.000000  0.428571    1      1     0     0   \n",
      "193  0.017454    0.007937   0.0  0.500000  0.571429    1      1     0     1   \n",
      "\n",
      "     white  ...  topleft_red  topleft_white  botright_black  botright_blue  \\\n",
      "189      1  ...        False          False           False          False   \n",
      "190      1  ...        False          False           False          False   \n",
      "191      0  ...        False          False           False          False   \n",
      "192      0  ...        False          False           False          False   \n",
      "193      1  ...        False          False           False          False   \n",
      "\n",
      "     botright_brown  botright_gold  botright_green  botright_orange  \\\n",
      "189           False          False           False            False   \n",
      "190           False          False           False            False   \n",
      "191           False          False            True            False   \n",
      "192            True          False           False            False   \n",
      "193           False          False            True            False   \n",
      "\n",
      "     botright_red  botright_white  \n",
      "189          True           False  \n",
      "190          True           False  \n",
      "191         False           False  \n",
      "192         False           False  \n",
      "193         False           False  \n",
      "\n",
      "[5 rows x 73 columns]\n",
      "-----------------------------------------\n"
     ]
    }
   ],
   "source": [
    "#P58 - Transformação da base flags\n",
    "\n",
    "import pandas as pd\n",
    "\n",
    "#---------------------------------------------------------------------\n",
    "#1-Importa a base de dados\n",
    "#---------------------------------------------------------------------\n",
    "flags = pd.read_csv('/workspaces/Pandas_python_livro_casa_do_codigo/main_project/flags.csv')\n",
    "\n",
    "#---------------------------------------------------------------------\n",
    "#2-Conversão dos atributos do Grupo 2\n",
    "#   De: Categóricos não binários\n",
    "#   Para: Categóricos binários\n",
    "#---------------------------------------------------------------------\n",
    "for c in flags.columns:\n",
    "    if c in ['landmass','zone',\n",
    "             'language','religion','mainhue',\n",
    "             'topleft','botright']:\n",
    "        dummies = pd.get_dummies(flags[c], prefix=c)\n",
    "        flags = flags.join(dummies)\n",
    "\n",
    "\n",
    "#---------------------------------------------------------------------\n",
    "#3-Normalização dos atributos dos Grupo 3 e 4\n",
    "#   De: Numéricos contínuos e discretos\n",
    "#   Para: Numéricos com valores na faixa entre 0 e 1\n",
    "#---------------------------------------------------------------------\n",
    "for c in flags.columns:\n",
    "    if c in ['area','population',\n",
    "             'bars','stripes','colours',\n",
    "             'circles','crosses','saltires',\n",
    "             'quarters','sunstars']:\n",
    "\n",
    "        c_max = max(flags[c])\n",
    "        c_min = min(flags[c])\n",
    "        flags[c] = (flags[c] - c_min) / (c_max - c_min)\n",
    "\n",
    "\n",
    "#---------------------------------------------------------------------\n",
    "#4-Exclusão dos atributos indesejados\n",
    "#---------------------------------------------------------------------\n",
    "flags = flags.drop(columns=['name', 'landmass',\n",
    "                            'zone', 'language',\n",
    "                            'religion', 'mainhue',\n",
    "                            'topleft', 'botright',\n",
    "                           ])\n",
    "\n",
    "\n",
    "#---------------------------------------------------------------------\n",
    "#5-Imprime a configuração final de flags\n",
    "#---------------------------------------------------------------------\n",
    "#Imprime as primeiras linhas\n",
    "print('Head():'); print(flags.head())\n",
    "print('-----------------------------------------')\n",
    "\n",
    "#Imprime as últimas linhas\n",
    "print('Tail():'); print(flags.tail())\n",
    "print('-----------------------------------------')\n",
    "\n",
    "\n",
    "#---------------------------------------------------------------------\n",
    "#6-Salva o dataset alterado para um arquivo\n",
    "#---------------------------------------------------------------------\n",
    "flags.to_csv('/workspaces/Pandas_python_livro_casa_do_codigo/main_project/flags_transf.csv', sep=\";\", index=False)"
   ]
  },
  {
   "cell_type": "markdown",
   "id": "4b4ac363",
   "metadata": {},
   "source": [
    "# Cap 7\n"
   ]
  },
  {
   "cell_type": "code",
   "execution_count": null,
   "id": "6da0f8f7",
   "metadata": {},
   "outputs": [],
   "source": [
    "#P59: Programa Final!\n",
    "# Cria um classificador k-NN\n",
    "# Avalia este classificador com o método LOO"
   ]
  },
  {
   "cell_type": "code",
   "execution_count": 1,
   "id": "c85a67e9",
   "metadata": {},
   "outputs": [],
   "source": [
    "#Parte 1 importação das bibliotes\n",
    "import pandas as pd\n",
    "from sklearn.neighbors import KNeighborsClassifier"
   ]
  },
  {
   "cell_type": "code",
   "execution_count": 15,
   "id": "adf9ec81",
   "metadata": {},
   "outputs": [
    {
     "name": "stdout",
     "output_type": "stream",
     "text": [
      "Index(['area', 'population', 'bars', 'stripes', 'colours', 'red', 'green',\n",
      "       'blue', 'gold', 'white', 'black', 'orange', 'circles', 'crosses',\n",
      "       'saltires', 'quarters', 'sunstars', 'crescent', 'triangle', 'icon',\n",
      "       'animate', 'text', 'landmass_1', 'landmass_2', 'landmass_3',\n",
      "       'landmass_4', 'landmass_5', 'landmass_6', 'zone_1', 'zone_2', 'zone_3',\n",
      "       'zone_4', 'language_1', 'language_2', 'language_3', 'language_4',\n",
      "       'language_5', 'language_6', 'language_7', 'language_8', 'language_9',\n",
      "       'language_10', 'religion_0', 'religion_1', 'religion_2', 'religion_3',\n",
      "       'religion_4', 'religion_5', 'religion_6', 'religion_7', 'mainhue_black',\n",
      "       'mainhue_blue', 'mainhue_brown', 'mainhue_gold', 'mainhue_green',\n",
      "       'mainhue_orange', 'mainhue_red', 'mainhue_white', 'topleft_black',\n",
      "       'topleft_blue', 'topleft_gold', 'topleft_green', 'topleft_orange',\n",
      "       'topleft_red', 'topleft_white', 'botright_black', 'botright_blue',\n",
      "       'botright_brown', 'botright_gold', 'botright_green', 'botright_orange',\n",
      "       'botright_red', 'botright_white'],\n",
      "      dtype='object')\n"
     ]
    }
   ],
   "source": [
    "#Parte 2 carrega a base de dados treinamentos (feita no cap 6, transformando as colunas)\n",
    "flags = pd.read_csv('/workspaces/Pandas_python_livro_casa_do_codigo/main_project/flags_transf.csv',sep= ';')\n",
    "print(flags.columns)"
   ]
  },
  {
   "cell_type": "code",
   "execution_count": null,
   "id": "42bdfbd4",
   "metadata": {},
   "outputs": [],
   "source": [
    "#Parte 3 configura os parâmetros e variáveis auxiliares\n",
    "# valor de k a ser usado no k-nn (qtd de vizinhos considerados na classificação)\n",
    "k = 3\n",
    "\n",
    "#nomes das labels (rótulos de classe)\n",
    "labels = ['red','green','blue','gold','white','black','orange']\n",
    "\n",
    "# numero de labels = 7\n",
    "n_labels = len(labels)\n",
    "\n",
    "# numero de registros da base de treinamento = 194\n",
    "n_registros = flags.shape[0]\n"
   ]
  },
  {
   "cell_type": "code",
   "execution_count": 29,
   "id": "0e91272c",
   "metadata": {},
   "outputs": [
    {
     "name": "stdout",
     "output_type": "stream",
     "text": [
      "-----------------------------------------\n",
      "PROCESSANDO O RÓTULO  red\n",
      "          predito_nao  predito_sim\n",
      "real_nao           20           21\n",
      "real_sim           22          131\n",
      "Acurácia =  0.78\n",
      "-----------------------------------------\n",
      "PROCESSANDO O RÓTULO  green\n",
      "          predito_nao  predito_sim\n",
      "real_nao           88           15\n",
      "real_sim           17           74\n",
      "Acurácia =  0.84\n",
      "-----------------------------------------\n",
      "PROCESSANDO O RÓTULO  blue\n",
      "          predito_nao  predito_sim\n",
      "real_nao           64           31\n",
      "real_sim           28           71\n",
      "Acurácia =  0.7\n",
      "-----------------------------------------\n",
      "PROCESSANDO O RÓTULO  gold\n",
      "          predito_nao  predito_sim\n",
      "real_nao           81           22\n",
      "real_sim           37           54\n",
      "Acurácia =  0.7\n",
      "-----------------------------------------\n",
      "PROCESSANDO O RÓTULO  white\n",
      "          predito_nao  predito_sim\n",
      "real_nao           18           30\n",
      "real_sim           24          122\n",
      "Acurácia =  0.72\n",
      "-----------------------------------------\n",
      "PROCESSANDO O RÓTULO  black\n",
      "          predito_nao  predito_sim\n",
      "real_nao          125           17\n",
      "real_sim           28           24\n",
      "Acurácia =  0.77\n",
      "-----------------------------------------\n",
      "PROCESSANDO O RÓTULO  orange\n",
      "          predito_nao  predito_sim\n",
      "real_nao          163            5\n",
      "real_sim           20            6\n",
      "Acurácia =  0.87\n"
     ]
    }
   ],
   "source": [
    "#Parte 4 cria um classificador com o algoritmo k-NN \n",
    "# e faz a estimativa do desempenho usando o método LOO(Leave-One-Out)\n",
    "\n",
    "#4.1 faz um loop que percorre cada rótulo\n",
    "\n",
    "for i in range(0,n_labels):\n",
    "    print('-----------------------------------------')\n",
    "    print(\"PROCESSANDO O RÓTULO \", labels[i])\n",
    "\n",
    "    #-----------------------------------------------------------\n",
    "    # 4.1.1 instancia uma matriz de confusão para o rótulo j\n",
    "    #-----------------------------------------------------------\n",
    "    mc = pd.DataFrame({'predito_nao':[0,0],\n",
    "                       'predito_sim':[0,0]},\n",
    "                       index = ['real_nao','real_sim'])\n",
    "    #-----------------------------------------------------------\n",
    "    # 4.1.2 divide a base de treinamento verticalmente\n",
    "    #       em duas partes: X (atributos preditivos) e\n",
    "    #                      Y (atributo classe)\n",
    "    #-----------------------------------------------------------\n",
    "    X = flags.drop(columns=labels)\n",
    "    Y = flags[labels[i]]\n",
    "\n",
    "\n",
    "    #4.2 loop que realiza o LOO para os rótulos em no loop i\n",
    "\n",
    "    for j in range(0,n_registros):\n",
    "        \n",
    "        #-----------------------------------------------------------\n",
    "        # 4.2.1 Separa os dados que serão utilizados para treinar o modelo\n",
    "        #-----------------------------------------------------------\n",
    "        X_treino = X.drop([j])\n",
    "        Y_treino = Y.drop([j])\n",
    "\n",
    "        #-------------------------------------------\n",
    "        # 4.2.2 Separa o objeto de teste\n",
    "        #-------------------------------------------\n",
    "        X_teste = X.iloc[[j],:]\n",
    "        Y_teste = Y.iloc[j]\n",
    "        #-----------------------------------------------------------\n",
    "        # 4.2.3 Treinamento do modelo k-NN com os dados\n",
    "        #       de treino\n",
    "        #-----------------------------------------------------------\n",
    "        modelo = KNeighborsClassifier(n_neighbors=k)\n",
    "        modelo.fit(X_treino,Y_treino)\n",
    "        \n",
    "        #-----------------------------------------------------------\n",
    "        # 4.2.4 Teste do modelo k-NN com o objeto de teste\n",
    "        #-----------------------------------------------------------\n",
    "        pred = modelo.predict(X_teste)\n",
    "\n",
    "        #-----------------------------------------------------------\n",
    "        # 4.2.5 Atualiza a celula adequada da matriz de confusão em função do resultado do teste\n",
    "        #-----------------------------------------------------------\n",
    "        if (Y_teste == 0):\n",
    "            if (pred == 0): mc.iloc[0,0]+=1\n",
    "            if (pred == 1): mc.iloc[0,1]+=1\n",
    "        else:\n",
    "            if (pred == 0): mc.iloc[1,0]+=1\n",
    "            if (pred == 1): mc.iloc[1,1]+=1\n",
    "\n",
    "    #-----------------------------------------------------------\n",
    "    # 4.3 - Fim do LOO para o rótulo i:\n",
    "    #       imprime a sua matriz de confusão e acurácia\n",
    "    #-----------------------------------------------------------\n",
    "    print(mc)\n",
    "    acuracia = (mc.iloc[0,0] + mc.iloc[1,1]) / n_registros\n",
    "    print('Acurácia = ',round(acuracia,2))"
   ]
  }
 ],
 "metadata": {
  "kernelspec": {
   "display_name": "Python 3",
   "language": "python",
   "name": "python3"
  },
  "language_info": {
   "codemirror_mode": {
    "name": "ipython",
    "version": 3
   },
   "file_extension": ".py",
   "mimetype": "text/x-python",
   "name": "python",
   "nbconvert_exporter": "python",
   "pygments_lexer": "ipython3",
   "version": "3.12.1"
  }
 },
 "nbformat": 4,
 "nbformat_minor": 5
}
